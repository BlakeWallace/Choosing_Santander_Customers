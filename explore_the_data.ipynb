{
 "cells": [
  {
   "cell_type": "markdown",
   "metadata": {},
   "source": [
    "# Exploring the data\n",
    "\n",
    "#### Notes:\n",
    " 1. There are 4459 different potential costumers/ rows of data\n",
    " 2. There are 4993 different types of transactions/ columns of data\n",
    " 3. There are no null values in the data\n",
    " 4. "
   ]
  },
  {
   "cell_type": "code",
   "execution_count": 1,
   "metadata": {},
   "outputs": [],
   "source": [
    "import pandas as pd\n",
    "import numpy as np\n",
    "import time\n",
    "\n",
    "import matplotlib.pyplot as plt\n",
    "import seaborn as sns\n",
    "\n",
    "%matplotlib inline\n",
    "\n",
    "from sklearn.model_selection import train_test_split, cross_val_score\n",
    "from sklearn.preprocessing import StandardScaler\n",
    "from sklearn.decomposition import PCA\n",
    "\n",
    "from sklearn.linear_model import LinearRegression\n",
    "\n",
    "from sklearn.metrics import r2_score\n"
   ]
  },
  {
   "cell_type": "code",
   "execution_count": 2,
   "metadata": {},
   "outputs": [
    {
     "name": "stdout",
     "output_type": "stream",
     "text": [
      "(4459, 4993)\n"
     ]
    },
    {
     "data": {
      "text/html": [
       "<div>\n",
       "<style scoped>\n",
       "    .dataframe tbody tr th:only-of-type {\n",
       "        vertical-align: middle;\n",
       "    }\n",
       "\n",
       "    .dataframe tbody tr th {\n",
       "        vertical-align: top;\n",
       "    }\n",
       "\n",
       "    .dataframe thead th {\n",
       "        text-align: right;\n",
       "    }\n",
       "</style>\n",
       "<table border=\"1\" class=\"dataframe\">\n",
       "  <thead>\n",
       "    <tr style=\"text-align: right;\">\n",
       "      <th></th>\n",
       "      <th>ID</th>\n",
       "      <th>target</th>\n",
       "      <th>48df886f9</th>\n",
       "      <th>0deb4b6a8</th>\n",
       "      <th>34b15f335</th>\n",
       "      <th>a8cb14b00</th>\n",
       "      <th>2f0771a37</th>\n",
       "      <th>30347e683</th>\n",
       "      <th>d08d1fbe3</th>\n",
       "      <th>6ee66e115</th>\n",
       "      <th>...</th>\n",
       "      <th>3ecc09859</th>\n",
       "      <th>9281abeea</th>\n",
       "      <th>8675bec0b</th>\n",
       "      <th>3a13ed79a</th>\n",
       "      <th>f677d4d13</th>\n",
       "      <th>71b203550</th>\n",
       "      <th>137efaa80</th>\n",
       "      <th>fb36b89d9</th>\n",
       "      <th>7e293fbaf</th>\n",
       "      <th>9fc776466</th>\n",
       "    </tr>\n",
       "  </thead>\n",
       "  <tbody>\n",
       "    <tr>\n",
       "      <th>0</th>\n",
       "      <td>000d6aaf2</td>\n",
       "      <td>38000000.0</td>\n",
       "      <td>0.0</td>\n",
       "      <td>0</td>\n",
       "      <td>0.0</td>\n",
       "      <td>0</td>\n",
       "      <td>0</td>\n",
       "      <td>0</td>\n",
       "      <td>0</td>\n",
       "      <td>0</td>\n",
       "      <td>...</td>\n",
       "      <td>0.0</td>\n",
       "      <td>0.0</td>\n",
       "      <td>0.0</td>\n",
       "      <td>0</td>\n",
       "      <td>0</td>\n",
       "      <td>0</td>\n",
       "      <td>0</td>\n",
       "      <td>0</td>\n",
       "      <td>0</td>\n",
       "      <td>0</td>\n",
       "    </tr>\n",
       "    <tr>\n",
       "      <th>1</th>\n",
       "      <td>000fbd867</td>\n",
       "      <td>600000.0</td>\n",
       "      <td>0.0</td>\n",
       "      <td>0</td>\n",
       "      <td>0.0</td>\n",
       "      <td>0</td>\n",
       "      <td>0</td>\n",
       "      <td>0</td>\n",
       "      <td>0</td>\n",
       "      <td>0</td>\n",
       "      <td>...</td>\n",
       "      <td>0.0</td>\n",
       "      <td>0.0</td>\n",
       "      <td>0.0</td>\n",
       "      <td>0</td>\n",
       "      <td>0</td>\n",
       "      <td>0</td>\n",
       "      <td>0</td>\n",
       "      <td>0</td>\n",
       "      <td>0</td>\n",
       "      <td>0</td>\n",
       "    </tr>\n",
       "    <tr>\n",
       "      <th>2</th>\n",
       "      <td>0027d6b71</td>\n",
       "      <td>10000000.0</td>\n",
       "      <td>0.0</td>\n",
       "      <td>0</td>\n",
       "      <td>0.0</td>\n",
       "      <td>0</td>\n",
       "      <td>0</td>\n",
       "      <td>0</td>\n",
       "      <td>0</td>\n",
       "      <td>0</td>\n",
       "      <td>...</td>\n",
       "      <td>0.0</td>\n",
       "      <td>0.0</td>\n",
       "      <td>0.0</td>\n",
       "      <td>0</td>\n",
       "      <td>0</td>\n",
       "      <td>0</td>\n",
       "      <td>0</td>\n",
       "      <td>0</td>\n",
       "      <td>0</td>\n",
       "      <td>0</td>\n",
       "    </tr>\n",
       "    <tr>\n",
       "      <th>3</th>\n",
       "      <td>0028cbf45</td>\n",
       "      <td>2000000.0</td>\n",
       "      <td>0.0</td>\n",
       "      <td>0</td>\n",
       "      <td>0.0</td>\n",
       "      <td>0</td>\n",
       "      <td>0</td>\n",
       "      <td>0</td>\n",
       "      <td>0</td>\n",
       "      <td>0</td>\n",
       "      <td>...</td>\n",
       "      <td>0.0</td>\n",
       "      <td>0.0</td>\n",
       "      <td>0.0</td>\n",
       "      <td>0</td>\n",
       "      <td>0</td>\n",
       "      <td>0</td>\n",
       "      <td>0</td>\n",
       "      <td>0</td>\n",
       "      <td>0</td>\n",
       "      <td>0</td>\n",
       "    </tr>\n",
       "    <tr>\n",
       "      <th>4</th>\n",
       "      <td>002a68644</td>\n",
       "      <td>14400000.0</td>\n",
       "      <td>0.0</td>\n",
       "      <td>0</td>\n",
       "      <td>0.0</td>\n",
       "      <td>0</td>\n",
       "      <td>0</td>\n",
       "      <td>0</td>\n",
       "      <td>0</td>\n",
       "      <td>0</td>\n",
       "      <td>...</td>\n",
       "      <td>0.0</td>\n",
       "      <td>0.0</td>\n",
       "      <td>0.0</td>\n",
       "      <td>0</td>\n",
       "      <td>0</td>\n",
       "      <td>0</td>\n",
       "      <td>0</td>\n",
       "      <td>0</td>\n",
       "      <td>0</td>\n",
       "      <td>0</td>\n",
       "    </tr>\n",
       "  </tbody>\n",
       "</table>\n",
       "<p>5 rows × 4993 columns</p>\n",
       "</div>"
      ],
      "text/plain": [
       "          ID      target  48df886f9  0deb4b6a8  34b15f335  a8cb14b00  \\\n",
       "0  000d6aaf2  38000000.0        0.0          0        0.0          0   \n",
       "1  000fbd867    600000.0        0.0          0        0.0          0   \n",
       "2  0027d6b71  10000000.0        0.0          0        0.0          0   \n",
       "3  0028cbf45   2000000.0        0.0          0        0.0          0   \n",
       "4  002a68644  14400000.0        0.0          0        0.0          0   \n",
       "\n",
       "   2f0771a37  30347e683  d08d1fbe3  6ee66e115  ...  3ecc09859  9281abeea  \\\n",
       "0          0          0          0          0  ...        0.0        0.0   \n",
       "1          0          0          0          0  ...        0.0        0.0   \n",
       "2          0          0          0          0  ...        0.0        0.0   \n",
       "3          0          0          0          0  ...        0.0        0.0   \n",
       "4          0          0          0          0  ...        0.0        0.0   \n",
       "\n",
       "   8675bec0b  3a13ed79a  f677d4d13  71b203550  137efaa80  fb36b89d9  \\\n",
       "0        0.0          0          0          0          0          0   \n",
       "1        0.0          0          0          0          0          0   \n",
       "2        0.0          0          0          0          0          0   \n",
       "3        0.0          0          0          0          0          0   \n",
       "4        0.0          0          0          0          0          0   \n",
       "\n",
       "   7e293fbaf  9fc776466  \n",
       "0          0          0  \n",
       "1          0          0  \n",
       "2          0          0  \n",
       "3          0          0  \n",
       "4          0          0  \n",
       "\n",
       "[5 rows x 4993 columns]"
      ]
     },
     "execution_count": 2,
     "metadata": {},
     "output_type": "execute_result"
    }
   ],
   "source": [
    "# there are 4459 potential customers (rows) with 4993 different transactions (columns)\n",
    "\n",
    "train = pd.read_csv('data/santander-value-prediction-challenge/train.csv')\n",
    "print(train.shape)\n",
    "train.head()"
   ]
  },
  {
   "cell_type": "code",
   "execution_count": 3,
   "metadata": {},
   "outputs": [
    {
     "data": {
      "text/plain": [
       "Index(['ID'], dtype='object')"
      ]
     },
     "execution_count": 3,
     "metadata": {},
     "output_type": "execute_result"
    }
   ],
   "source": [
    "# check to see if any columns have the `object` datatype\n",
    "\n",
    "train.columns[train.dtypes == 'object']"
   ]
  },
  {
   "cell_type": "code",
   "execution_count": 4,
   "metadata": {},
   "outputs": [
    {
     "data": {
      "text/plain": [
       "0"
      ]
     },
     "execution_count": 4,
     "metadata": {},
     "output_type": "execute_result"
    }
   ],
   "source": [
    "# there are no null values in this dataset\n",
    "\n",
    "(train.isnull().sum() != 0).sum()"
   ]
  },
  {
   "cell_type": "markdown",
   "metadata": {},
   "source": [
    "## Now, since there are so many columns, we will do Principal Component Analysis to reduce the number of columns before making predictions.\n",
    "\n",
    "As taken from [8.04-lesson-principal_component_analysis](https://git.generalassemb.ly/DSI-US-7/8.04-lesson-principal_component_analysis/blob/master/starter-code-ec.ipynb)\n",
    "### Two notes:\n",
    "\n",
    "1. You will do your train/test split **before** applying PCA!\n",
    "2. Standardize our data **before** applying PCA!"
   ]
  },
  {
   "cell_type": "code",
   "execution_count": 5,
   "metadata": {},
   "outputs": [
    {
     "name": "stdout",
     "output_type": "stream",
     "text": [
      "(4459, 4993)\n",
      "(4459, 4992)\n",
      "(4459,)\n"
     ]
    }
   ],
   "source": [
    "# separate the data into features and target variables\n",
    "\n",
    "features = [col for col in train.columns if col != 'target']\n",
    "X = train[features]\n",
    "y = train['target']\n",
    "print(train.shape)\n",
    "print(X.shape)\n",
    "print(y.shape)"
   ]
  },
  {
   "cell_type": "code",
   "execution_count": 6,
   "metadata": {},
   "outputs": [],
   "source": [
    "# train/test split\n",
    "X_train, X_test, y_train, y_test = train_test_split(X, \n",
    "                                                    y,\n",
    "                                                    test_size=0.33,\n",
    "                                                    random_state=42)"
   ]
  },
  {
   "cell_type": "code",
   "execution_count": 7,
   "metadata": {},
   "outputs": [
    {
     "data": {
      "text/html": [
       "<div>\n",
       "<style scoped>\n",
       "    .dataframe tbody tr th:only-of-type {\n",
       "        vertical-align: middle;\n",
       "    }\n",
       "\n",
       "    .dataframe tbody tr th {\n",
       "        vertical-align: top;\n",
       "    }\n",
       "\n",
       "    .dataframe thead th {\n",
       "        text-align: right;\n",
       "    }\n",
       "</style>\n",
       "<table border=\"1\" class=\"dataframe\">\n",
       "  <thead>\n",
       "    <tr style=\"text-align: right;\">\n",
       "      <th></th>\n",
       "      <th>ID</th>\n",
       "      <th>48df886f9</th>\n",
       "      <th>0deb4b6a8</th>\n",
       "      <th>34b15f335</th>\n",
       "      <th>a8cb14b00</th>\n",
       "      <th>2f0771a37</th>\n",
       "      <th>30347e683</th>\n",
       "      <th>d08d1fbe3</th>\n",
       "      <th>6ee66e115</th>\n",
       "      <th>20aa07010</th>\n",
       "      <th>...</th>\n",
       "      <th>3ecc09859</th>\n",
       "      <th>9281abeea</th>\n",
       "      <th>8675bec0b</th>\n",
       "      <th>3a13ed79a</th>\n",
       "      <th>f677d4d13</th>\n",
       "      <th>71b203550</th>\n",
       "      <th>137efaa80</th>\n",
       "      <th>fb36b89d9</th>\n",
       "      <th>7e293fbaf</th>\n",
       "      <th>9fc776466</th>\n",
       "    </tr>\n",
       "  </thead>\n",
       "  <tbody>\n",
       "    <tr>\n",
       "      <th>1739</th>\n",
       "      <td>65ada8db2</td>\n",
       "      <td>0.0</td>\n",
       "      <td>0</td>\n",
       "      <td>0.0</td>\n",
       "      <td>0</td>\n",
       "      <td>0</td>\n",
       "      <td>0</td>\n",
       "      <td>0</td>\n",
       "      <td>0</td>\n",
       "      <td>2000000.0</td>\n",
       "      <td>...</td>\n",
       "      <td>0.0</td>\n",
       "      <td>0.0</td>\n",
       "      <td>0.0</td>\n",
       "      <td>0</td>\n",
       "      <td>0</td>\n",
       "      <td>0</td>\n",
       "      <td>0</td>\n",
       "      <td>0</td>\n",
       "      <td>0</td>\n",
       "      <td>0</td>\n",
       "    </tr>\n",
       "    <tr>\n",
       "      <th>981</th>\n",
       "      <td>38a920299</td>\n",
       "      <td>0.0</td>\n",
       "      <td>0</td>\n",
       "      <td>0.0</td>\n",
       "      <td>0</td>\n",
       "      <td>0</td>\n",
       "      <td>0</td>\n",
       "      <td>0</td>\n",
       "      <td>0</td>\n",
       "      <td>0.0</td>\n",
       "      <td>...</td>\n",
       "      <td>0.0</td>\n",
       "      <td>0.0</td>\n",
       "      <td>0.0</td>\n",
       "      <td>0</td>\n",
       "      <td>0</td>\n",
       "      <td>0</td>\n",
       "      <td>0</td>\n",
       "      <td>0</td>\n",
       "      <td>0</td>\n",
       "      <td>0</td>\n",
       "    </tr>\n",
       "    <tr>\n",
       "      <th>1983</th>\n",
       "      <td>7325a68d6</td>\n",
       "      <td>0.0</td>\n",
       "      <td>0</td>\n",
       "      <td>0.0</td>\n",
       "      <td>0</td>\n",
       "      <td>0</td>\n",
       "      <td>0</td>\n",
       "      <td>0</td>\n",
       "      <td>0</td>\n",
       "      <td>0.0</td>\n",
       "      <td>...</td>\n",
       "      <td>0.0</td>\n",
       "      <td>0.0</td>\n",
       "      <td>0.0</td>\n",
       "      <td>0</td>\n",
       "      <td>0</td>\n",
       "      <td>0</td>\n",
       "      <td>0</td>\n",
       "      <td>0</td>\n",
       "      <td>0</td>\n",
       "      <td>0</td>\n",
       "    </tr>\n",
       "    <tr>\n",
       "      <th>1698</th>\n",
       "      <td>626948f18</td>\n",
       "      <td>0.0</td>\n",
       "      <td>0</td>\n",
       "      <td>0.0</td>\n",
       "      <td>0</td>\n",
       "      <td>0</td>\n",
       "      <td>0</td>\n",
       "      <td>0</td>\n",
       "      <td>0</td>\n",
       "      <td>0.0</td>\n",
       "      <td>...</td>\n",
       "      <td>0.0</td>\n",
       "      <td>0.0</td>\n",
       "      <td>0.0</td>\n",
       "      <td>0</td>\n",
       "      <td>0</td>\n",
       "      <td>0</td>\n",
       "      <td>0</td>\n",
       "      <td>0</td>\n",
       "      <td>0</td>\n",
       "      <td>0</td>\n",
       "    </tr>\n",
       "    <tr>\n",
       "      <th>3678</th>\n",
       "      <td>d345ae5dd</td>\n",
       "      <td>0.0</td>\n",
       "      <td>0</td>\n",
       "      <td>0.0</td>\n",
       "      <td>0</td>\n",
       "      <td>0</td>\n",
       "      <td>0</td>\n",
       "      <td>0</td>\n",
       "      <td>0</td>\n",
       "      <td>39400000.0</td>\n",
       "      <td>...</td>\n",
       "      <td>0.0</td>\n",
       "      <td>0.0</td>\n",
       "      <td>100000.0</td>\n",
       "      <td>0</td>\n",
       "      <td>0</td>\n",
       "      <td>0</td>\n",
       "      <td>0</td>\n",
       "      <td>0</td>\n",
       "      <td>0</td>\n",
       "      <td>0</td>\n",
       "    </tr>\n",
       "  </tbody>\n",
       "</table>\n",
       "<p>5 rows × 4992 columns</p>\n",
       "</div>"
      ],
      "text/plain": [
       "             ID  48df886f9  0deb4b6a8  34b15f335  a8cb14b00  2f0771a37  \\\n",
       "1739  65ada8db2        0.0          0        0.0          0          0   \n",
       "981   38a920299        0.0          0        0.0          0          0   \n",
       "1983  7325a68d6        0.0          0        0.0          0          0   \n",
       "1698  626948f18        0.0          0        0.0          0          0   \n",
       "3678  d345ae5dd        0.0          0        0.0          0          0   \n",
       "\n",
       "      30347e683  d08d1fbe3  6ee66e115   20aa07010  ...  3ecc09859  9281abeea  \\\n",
       "1739          0          0          0   2000000.0  ...        0.0        0.0   \n",
       "981           0          0          0         0.0  ...        0.0        0.0   \n",
       "1983          0          0          0         0.0  ...        0.0        0.0   \n",
       "1698          0          0          0         0.0  ...        0.0        0.0   \n",
       "3678          0          0          0  39400000.0  ...        0.0        0.0   \n",
       "\n",
       "      8675bec0b  3a13ed79a  f677d4d13  71b203550  137efaa80  fb36b89d9  \\\n",
       "1739        0.0          0          0          0          0          0   \n",
       "981         0.0          0          0          0          0          0   \n",
       "1983        0.0          0          0          0          0          0   \n",
       "1698        0.0          0          0          0          0          0   \n",
       "3678   100000.0          0          0          0          0          0   \n",
       "\n",
       "      7e293fbaf  9fc776466  \n",
       "1739          0          0  \n",
       "981           0          0  \n",
       "1983          0          0  \n",
       "1698          0          0  \n",
       "3678          0          0  \n",
       "\n",
       "[5 rows x 4992 columns]"
      ]
     },
     "execution_count": 7,
     "metadata": {},
     "output_type": "execute_result"
    }
   ],
   "source": [
    "X_train.head()"
   ]
  },
  {
   "cell_type": "code",
   "execution_count": 13,
   "metadata": {},
   "outputs": [
    {
     "name": "stderr",
     "output_type": "stream",
     "text": [
      "/Users/blakewallace/anaconda3/lib/python3.6/site-packages/sklearn/preprocessing/data.py:625: DataConversionWarning: Data with input dtype int64, float64 were all converted to float64 by StandardScaler.\n",
      "  return self.partial_fit(X, y)\n",
      "/Users/blakewallace/anaconda3/lib/python3.6/site-packages/sklearn/base.py:462: DataConversionWarning: Data with input dtype int64, float64 were all converted to float64 by StandardScaler.\n",
      "  return self.fit(X, **fit_params).transform(X)\n",
      "/Users/blakewallace/anaconda3/lib/python3.6/site-packages/ipykernel_launcher.py:11: DataConversionWarning: Data with input dtype int64, float64 were all converted to float64 by StandardScaler.\n",
      "  # This is added back by InteractiveShellApp.init_path()\n"
     ]
    }
   ],
   "source": [
    "# Instantiate a standard scale\n",
    "ss = StandardScaler()\n",
    "\n",
    "# fit and scale X_train\n",
    "numerical_features = [col for col in X_train if col != 'ID']\n",
    "X_train_num = X_train[numerical_features]\n",
    "Xs_train = ss.fit_transform(X_train_num)\n",
    "\n",
    "# # scale X_test\n",
    "X_test_num = X_test[numerical_features]\n",
    "Xs_test = ss.transform(X_test_num)"
   ]
  },
  {
   "cell_type": "code",
   "execution_count": 14,
   "metadata": {},
   "outputs": [
    {
     "data": {
      "text/plain": [
       "array([[-0.04347695, -0.01839178, -0.04942478, ..., -0.06793597,\n",
       "        -0.05715432, -0.12777777],\n",
       "       [-0.04347695, -0.01839178, -0.04942478, ..., -0.06793597,\n",
       "        -0.05715432, -0.12777777],\n",
       "       [-0.04347695, -0.01839178, -0.04942478, ..., -0.06793597,\n",
       "        -0.05715432, -0.12777777],\n",
       "       ...,\n",
       "       [-0.04347695, -0.01839178, -0.04942478, ..., -0.06793597,\n",
       "        -0.05715432, -0.12777777],\n",
       "       [-0.04347695, -0.01839178, -0.04942478, ..., -0.06793597,\n",
       "        -0.05715432, -0.12777777],\n",
       "       [-0.04347695, -0.01839178, -0.04942478, ..., -0.06793597,\n",
       "        -0.05715432, -0.12777777]])"
      ]
     },
     "execution_count": 14,
     "metadata": {},
     "output_type": "execute_result"
    }
   ],
   "source": [
    "Xs_train"
   ]
  },
  {
   "cell_type": "code",
   "execution_count": 15,
   "metadata": {},
   "outputs": [
    {
     "data": {
      "text/plain": [
       "array([[-0.04347695, -0.01839178, -0.04942478, ..., -0.06793597,\n",
       "        -0.05715432, -0.12777777],\n",
       "       [-0.04347695, -0.01839178, -0.04942478, ..., -0.06793597,\n",
       "        -0.05715432, -0.12777777],\n",
       "       [-0.04347695, -0.01839178, -0.04942478, ..., -0.06793597,\n",
       "        -0.05715432, -0.12777777],\n",
       "       ...,\n",
       "       [-0.04347695, -0.01839178, -0.04942478, ..., -0.06793597,\n",
       "        -0.05715432, -0.12777777],\n",
       "       [-0.04347695, -0.01839178, -0.04942478, ..., -0.06793597,\n",
       "        -0.05715432, -0.12777777],\n",
       "       [-0.04347695, -0.01839178, -0.04942478, ..., -0.06793597,\n",
       "        -0.05715432, -0.12777777]])"
      ]
     },
     "execution_count": 15,
     "metadata": {},
     "output_type": "execute_result"
    }
   ],
   "source": [
    "Xs_test"
   ]
  },
  {
   "cell_type": "code",
   "execution_count": 16,
   "metadata": {},
   "outputs": [],
   "source": [
    "# len(Xs_train_num)"
   ]
  },
  {
   "cell_type": "code",
   "execution_count": 17,
   "metadata": {},
   "outputs": [],
   "source": [
    "# # dataframe of the training data\n",
    "# Xs_train_df = pd.DataFrame(Xs_train_num)\n",
    "# Xs_train_df.head(25)"
   ]
  },
  {
   "cell_type": "code",
   "execution_count": 18,
   "metadata": {},
   "outputs": [],
   "source": [
    "# Instantiate PCA\n",
    "pca = PCA()"
   ]
  },
  {
   "cell_type": "code",
   "execution_count": null,
   "metadata": {},
   "outputs": [
    {
     "data": {
      "text/plain": [
       "PCA(copy=True, iterated_power='auto', n_components=None, random_state=None,\n",
       "  svd_solver='auto', tol=0.0, whiten=False)"
      ]
     },
     "execution_count": 19,
     "metadata": {},
     "output_type": "execute_result"
    }
   ],
   "source": [
    "# fit the pca to the training data\n",
    "pca.fit(Xs_train)"
   ]
  },
  {
   "cell_type": "code",
   "execution_count": null,
   "metadata": {},
   "outputs": [],
   "source": [
    "Z_train = pca.transform(Xs_train)"
   ]
  },
  {
   "cell_type": "code",
   "execution_count": null,
   "metadata": {},
   "outputs": [
    {
     "data": {
      "text/html": [
       "<div>\n",
       "<style scoped>\n",
       "    .dataframe tbody tr th:only-of-type {\n",
       "        vertical-align: middle;\n",
       "    }\n",
       "\n",
       "    .dataframe tbody tr th {\n",
       "        vertical-align: top;\n",
       "    }\n",
       "\n",
       "    .dataframe thead th {\n",
       "        text-align: right;\n",
       "    }\n",
       "</style>\n",
       "<table border=\"1\" class=\"dataframe\">\n",
       "  <thead>\n",
       "    <tr style=\"text-align: right;\">\n",
       "      <th></th>\n",
       "      <th>0</th>\n",
       "      <th>1</th>\n",
       "      <th>2</th>\n",
       "      <th>3</th>\n",
       "      <th>4</th>\n",
       "      <th>5</th>\n",
       "      <th>6</th>\n",
       "      <th>7</th>\n",
       "      <th>8</th>\n",
       "      <th>9</th>\n",
       "      <th>...</th>\n",
       "      <th>2977</th>\n",
       "      <th>2978</th>\n",
       "      <th>2979</th>\n",
       "      <th>2980</th>\n",
       "      <th>2981</th>\n",
       "      <th>2982</th>\n",
       "      <th>2983</th>\n",
       "      <th>2984</th>\n",
       "      <th>2985</th>\n",
       "      <th>2986</th>\n",
       "    </tr>\n",
       "  </thead>\n",
       "  <tbody>\n",
       "    <tr>\n",
       "      <th>count</th>\n",
       "      <td>2.987000e+03</td>\n",
       "      <td>2.987000e+03</td>\n",
       "      <td>2.987000e+03</td>\n",
       "      <td>2.987000e+03</td>\n",
       "      <td>2.987000e+03</td>\n",
       "      <td>2.987000e+03</td>\n",
       "      <td>2.987000e+03</td>\n",
       "      <td>2.987000e+03</td>\n",
       "      <td>2.987000e+03</td>\n",
       "      <td>2.987000e+03</td>\n",
       "      <td>...</td>\n",
       "      <td>2.987000e+03</td>\n",
       "      <td>2.987000e+03</td>\n",
       "      <td>2.987000e+03</td>\n",
       "      <td>2.987000e+03</td>\n",
       "      <td>2.987000e+03</td>\n",
       "      <td>2.987000e+03</td>\n",
       "      <td>2.987000e+03</td>\n",
       "      <td>2.987000e+03</td>\n",
       "      <td>2.987000e+03</td>\n",
       "      <td>2.987000e+03</td>\n",
       "    </tr>\n",
       "    <tr>\n",
       "      <th>mean</th>\n",
       "      <td>-1.269676e-16</td>\n",
       "      <td>3.528522e-16</td>\n",
       "      <td>2.834470e-16</td>\n",
       "      <td>-8.466984e-17</td>\n",
       "      <td>2.497723e-17</td>\n",
       "      <td>1.558103e-16</td>\n",
       "      <td>-2.308164e-17</td>\n",
       "      <td>6.088200e-17</td>\n",
       "      <td>1.465554e-16</td>\n",
       "      <td>-1.004850e-16</td>\n",
       "      <td>...</td>\n",
       "      <td>-4.042553e-17</td>\n",
       "      <td>6.860121e-17</td>\n",
       "      <td>-1.204607e-17</td>\n",
       "      <td>4.303029e-17</td>\n",
       "      <td>-1.981143e-17</td>\n",
       "      <td>3.202349e-17</td>\n",
       "      <td>-1.393321e-17</td>\n",
       "      <td>3.593980e-17</td>\n",
       "      <td>2.199550e-17</td>\n",
       "      <td>3.578709e-17</td>\n",
       "    </tr>\n",
       "    <tr>\n",
       "      <th>std</th>\n",
       "      <td>1.087453e+01</td>\n",
       "      <td>1.006500e+01</td>\n",
       "      <td>8.867700e+00</td>\n",
       "      <td>7.669539e+00</td>\n",
       "      <td>6.374179e+00</td>\n",
       "      <td>5.996391e+00</td>\n",
       "      <td>5.539177e+00</td>\n",
       "      <td>5.426956e+00</td>\n",
       "      <td>5.253698e+00</td>\n",
       "      <td>4.661825e+00</td>\n",
       "      <td>...</td>\n",
       "      <td>1.556123e-05</td>\n",
       "      <td>5.678591e-06</td>\n",
       "      <td>4.549417e-06</td>\n",
       "      <td>2.909287e-06</td>\n",
       "      <td>1.190637e-06</td>\n",
       "      <td>1.866545e-14</td>\n",
       "      <td>4.189178e-15</td>\n",
       "      <td>3.407180e-15</td>\n",
       "      <td>3.103067e-15</td>\n",
       "      <td>3.431403e-15</td>\n",
       "    </tr>\n",
       "    <tr>\n",
       "      <th>min</th>\n",
       "      <td>-6.381358e+00</td>\n",
       "      <td>-4.870642e+01</td>\n",
       "      <td>-1.520046e+01</td>\n",
       "      <td>-4.307392e+01</td>\n",
       "      <td>-4.831634e+01</td>\n",
       "      <td>-1.432711e+01</td>\n",
       "      <td>-4.567391e+01</td>\n",
       "      <td>-2.339385e+01</td>\n",
       "      <td>-3.272204e+01</td>\n",
       "      <td>-1.161588e+01</td>\n",
       "      <td>...</td>\n",
       "      <td>-1.708050e-04</td>\n",
       "      <td>-1.493337e-04</td>\n",
       "      <td>-9.956393e-05</td>\n",
       "      <td>-5.310230e-05</td>\n",
       "      <td>-1.749617e-05</td>\n",
       "      <td>-5.698584e-13</td>\n",
       "      <td>-2.628973e-14</td>\n",
       "      <td>-2.401725e-14</td>\n",
       "      <td>-2.217670e-14</td>\n",
       "      <td>-2.153833e-14</td>\n",
       "    </tr>\n",
       "    <tr>\n",
       "      <th>25%</th>\n",
       "      <td>-4.657362e+00</td>\n",
       "      <td>-1.094643e+00</td>\n",
       "      <td>-9.479115e-01</td>\n",
       "      <td>-1.292864e+00</td>\n",
       "      <td>-9.788385e-01</td>\n",
       "      <td>-1.097661e+00</td>\n",
       "      <td>-5.128252e-01</td>\n",
       "      <td>-7.511255e-01</td>\n",
       "      <td>-1.626504e-01</td>\n",
       "      <td>-3.894891e-01</td>\n",
       "      <td>...</td>\n",
       "      <td>-5.915949e-10</td>\n",
       "      <td>-1.216332e-10</td>\n",
       "      <td>-8.275265e-11</td>\n",
       "      <td>-2.218041e-11</td>\n",
       "      <td>-4.271439e-12</td>\n",
       "      <td>-2.048708e-15</td>\n",
       "      <td>-2.096413e-15</td>\n",
       "      <td>-1.831868e-15</td>\n",
       "      <td>-1.616762e-15</td>\n",
       "      <td>-1.608956e-15</td>\n",
       "    </tr>\n",
       "    <tr>\n",
       "      <th>50%</th>\n",
       "      <td>-3.543189e+00</td>\n",
       "      <td>-7.980402e-01</td>\n",
       "      <td>-8.700409e-01</td>\n",
       "      <td>-1.110013e+00</td>\n",
       "      <td>-6.505634e-01</td>\n",
       "      <td>-8.059964e-01</td>\n",
       "      <td>-3.734003e-01</td>\n",
       "      <td>-6.705840e-01</td>\n",
       "      <td>2.898704e-01</td>\n",
       "      <td>-3.198987e-01</td>\n",
       "      <td>...</td>\n",
       "      <td>1.447323e-13</td>\n",
       "      <td>4.500927e-13</td>\n",
       "      <td>-5.509482e-14</td>\n",
       "      <td>9.756432e-14</td>\n",
       "      <td>2.205180e-14</td>\n",
       "      <td>6.661338e-16</td>\n",
       "      <td>1.179612e-16</td>\n",
       "      <td>3.642919e-17</td>\n",
       "      <td>2.775558e-17</td>\n",
       "      <td>-3.642919e-17</td>\n",
       "    </tr>\n",
       "    <tr>\n",
       "      <th>75%</th>\n",
       "      <td>-6.434608e-01</td>\n",
       "      <td>4.261398e-01</td>\n",
       "      <td>-3.934991e-01</td>\n",
       "      <td>-1.435600e-01</td>\n",
       "      <td>-4.449654e-01</td>\n",
       "      <td>1.528561e-01</td>\n",
       "      <td>3.768735e-01</td>\n",
       "      <td>-3.873329e-01</td>\n",
       "      <td>5.172730e-01</td>\n",
       "      <td>-8.137735e-02</td>\n",
       "      <td>...</td>\n",
       "      <td>5.533304e-10</td>\n",
       "      <td>1.238545e-10</td>\n",
       "      <td>7.267581e-11</td>\n",
       "      <td>2.167770e-11</td>\n",
       "      <td>4.197059e-12</td>\n",
       "      <td>4.782633e-15</td>\n",
       "      <td>2.088607e-15</td>\n",
       "      <td>1.834470e-15</td>\n",
       "      <td>1.720412e-15</td>\n",
       "      <td>1.711305e-15</td>\n",
       "    </tr>\n",
       "    <tr>\n",
       "      <th>max</th>\n",
       "      <td>8.584938e+01</td>\n",
       "      <td>1.045632e+02</td>\n",
       "      <td>2.053160e+02</td>\n",
       "      <td>1.117821e+02</td>\n",
       "      <td>8.720800e+01</td>\n",
       "      <td>1.577194e+02</td>\n",
       "      <td>7.413680e+01</td>\n",
       "      <td>9.821171e+01</td>\n",
       "      <td>5.882969e+01</td>\n",
       "      <td>1.515635e+02</td>\n",
       "      <td>...</td>\n",
       "      <td>7.723450e-04</td>\n",
       "      <td>2.633266e-04</td>\n",
       "      <td>1.936162e-04</td>\n",
       "      <td>1.291781e-04</td>\n",
       "      <td>5.382041e-05</td>\n",
       "      <td>6.913914e-14</td>\n",
       "      <td>2.206221e-14</td>\n",
       "      <td>2.690209e-14</td>\n",
       "      <td>1.551537e-14</td>\n",
       "      <td>3.195534e-14</td>\n",
       "    </tr>\n",
       "  </tbody>\n",
       "</table>\n",
       "<p>8 rows × 2987 columns</p>\n",
       "</div>"
      ],
      "text/plain": [
       "               0             1             2             3             4     \\\n",
       "count  2.987000e+03  2.987000e+03  2.987000e+03  2.987000e+03  2.987000e+03   \n",
       "mean  -1.269676e-16  3.528522e-16  2.834470e-16 -8.466984e-17  2.497723e-17   \n",
       "std    1.087453e+01  1.006500e+01  8.867700e+00  7.669539e+00  6.374179e+00   \n",
       "min   -6.381358e+00 -4.870642e+01 -1.520046e+01 -4.307392e+01 -4.831634e+01   \n",
       "25%   -4.657362e+00 -1.094643e+00 -9.479115e-01 -1.292864e+00 -9.788385e-01   \n",
       "50%   -3.543189e+00 -7.980402e-01 -8.700409e-01 -1.110013e+00 -6.505634e-01   \n",
       "75%   -6.434608e-01  4.261398e-01 -3.934991e-01 -1.435600e-01 -4.449654e-01   \n",
       "max    8.584938e+01  1.045632e+02  2.053160e+02  1.117821e+02  8.720800e+01   \n",
       "\n",
       "               5             6             7             8             9     \\\n",
       "count  2.987000e+03  2.987000e+03  2.987000e+03  2.987000e+03  2.987000e+03   \n",
       "mean   1.558103e-16 -2.308164e-17  6.088200e-17  1.465554e-16 -1.004850e-16   \n",
       "std    5.996391e+00  5.539177e+00  5.426956e+00  5.253698e+00  4.661825e+00   \n",
       "min   -1.432711e+01 -4.567391e+01 -2.339385e+01 -3.272204e+01 -1.161588e+01   \n",
       "25%   -1.097661e+00 -5.128252e-01 -7.511255e-01 -1.626504e-01 -3.894891e-01   \n",
       "50%   -8.059964e-01 -3.734003e-01 -6.705840e-01  2.898704e-01 -3.198987e-01   \n",
       "75%    1.528561e-01  3.768735e-01 -3.873329e-01  5.172730e-01 -8.137735e-02   \n",
       "max    1.577194e+02  7.413680e+01  9.821171e+01  5.882969e+01  1.515635e+02   \n",
       "\n",
       "       ...          2977          2978          2979          2980  \\\n",
       "count  ...  2.987000e+03  2.987000e+03  2.987000e+03  2.987000e+03   \n",
       "mean   ... -4.042553e-17  6.860121e-17 -1.204607e-17  4.303029e-17   \n",
       "std    ...  1.556123e-05  5.678591e-06  4.549417e-06  2.909287e-06   \n",
       "min    ... -1.708050e-04 -1.493337e-04 -9.956393e-05 -5.310230e-05   \n",
       "25%    ... -5.915949e-10 -1.216332e-10 -8.275265e-11 -2.218041e-11   \n",
       "50%    ...  1.447323e-13  4.500927e-13 -5.509482e-14  9.756432e-14   \n",
       "75%    ...  5.533304e-10  1.238545e-10  7.267581e-11  2.167770e-11   \n",
       "max    ...  7.723450e-04  2.633266e-04  1.936162e-04  1.291781e-04   \n",
       "\n",
       "               2981          2982          2983          2984          2985  \\\n",
       "count  2.987000e+03  2.987000e+03  2.987000e+03  2.987000e+03  2.987000e+03   \n",
       "mean  -1.981143e-17  3.202349e-17 -1.393321e-17  3.593980e-17  2.199550e-17   \n",
       "std    1.190637e-06  1.866545e-14  4.189178e-15  3.407180e-15  3.103067e-15   \n",
       "min   -1.749617e-05 -5.698584e-13 -2.628973e-14 -2.401725e-14 -2.217670e-14   \n",
       "25%   -4.271439e-12 -2.048708e-15 -2.096413e-15 -1.831868e-15 -1.616762e-15   \n",
       "50%    2.205180e-14  6.661338e-16  1.179612e-16  3.642919e-17  2.775558e-17   \n",
       "75%    4.197059e-12  4.782633e-15  2.088607e-15  1.834470e-15  1.720412e-15   \n",
       "max    5.382041e-05  6.913914e-14  2.206221e-14  2.690209e-14  1.551537e-14   \n",
       "\n",
       "               2986  \n",
       "count  2.987000e+03  \n",
       "mean   3.578709e-17  \n",
       "std    3.431403e-15  \n",
       "min   -2.153833e-14  \n",
       "25%   -1.608956e-15  \n",
       "50%   -3.642919e-17  \n",
       "75%    1.711305e-15  \n",
       "max    3.195534e-14  \n",
       "\n",
       "[8 rows x 2987 columns]"
      ]
     },
     "execution_count": 21,
     "metadata": {},
     "output_type": "execute_result"
    }
   ],
   "source": [
    "pd.DataFrame(Z_train).describe()"
   ]
  },
  {
   "cell_type": "code",
   "execution_count": null,
   "metadata": {},
   "outputs": [],
   "source": [
    "Z_test = pca.transform(Xs_test)"
   ]
  },
  {
   "cell_type": "code",
   "execution_count": null,
   "metadata": {},
   "outputs": [
    {
     "data": {
      "text/plain": [
       "<matplotlib.collections.PathCollection at 0x11fcab518>"
      ]
     },
     "execution_count": 23,
     "metadata": {},
     "output_type": "execute_result"
    },
    {
     "data": {
      "image/png": "[encoded data removed]",
      "text/plain": [
       "<Figure size 432x288 with 1 Axes>"
      ]
     },
     "metadata": {
      "needs_background": "light"
     },
     "output_type": "display_data"
    }
   ],
   "source": [
    "plt.scatter(pd.DataFrame(Z_train[0]),\n",
    "            pd.DataFrame(Z_train[1]))"
   ]
  },
  {
   "cell_type": "code",
   "execution_count": null,
   "metadata": {},
   "outputs": [
    {
     "data": {
      "text/plain": [
       "(2987, 2987)"
      ]
     },
     "execution_count": 24,
     "metadata": {},
     "output_type": "execute_result"
    }
   ],
   "source": [
    "Z_train.shape"
   ]
  },
  {
   "cell_type": "code",
   "execution_count": null,
   "metadata": {},
   "outputs": [
    {
     "data": {
      "text/plain": [
       "(1472, 2987)"
      ]
     },
     "execution_count": 25,
     "metadata": {},
     "output_type": "execute_result"
    }
   ],
   "source": [
    "Z_test.shape"
   ]
  },
  {
   "cell_type": "code",
   "execution_count": null,
   "metadata": {},
   "outputs": [
    {
     "name": "stdout",
     "output_type": "stream",
     "text": [
      "Explained variance: [2.55989087e-02 2.19294591e-02 1.70224740e-02 ... 4.27406027e-34\n",
      " 1.38069465e-34 4.46020317e-35]\n",
      "Cumulative explained variance: [0.02559891 0.04752837 0.06455084 ... 1.         1.         1.        ]\n"
     ]
    }
   ],
   "source": [
    "var_exp = pca.explained_variance_ratio_\n",
    "print(f'Explained variance: {var_exp}')\n",
    "\n",
    "cum_var_exp = np.cumsum(var_exp)\n",
    "print(f'Cumulative explained variance: {cum_var_exp}')"
   ]
  },
  {
   "cell_type": "code",
   "execution_count": null,
   "metadata": {},
   "outputs": [
    {
     "data": {
      "text/plain": [
       "0"
      ]
     },
     "execution_count": 27,
     "metadata": {},
     "output_type": "execute_result"
    }
   ],
   "source": [
    "list(cum_var_exp).index(0.025598908656234598)"
   ]
  },
  {
   "cell_type": "code",
   "execution_count": null,
   "metadata": {},
   "outputs": [
    {
     "name": "stdout",
     "output_type": "stream",
     "text": [
      "634\n"
     ]
    }
   ],
   "source": [
    "# determine the number of Z variables to take in order to capture 80% of the variance in the data\n",
    "index = []\n",
    "j = 0\n",
    "for i in list(cum_var_exp):\n",
    "    if i > 0.8:\n",
    "        index.append(list(cum_var_exp).index(i))\n",
    "print(index[0])\n",
    "    "
   ]
  },
  {
   "cell_type": "code",
   "execution_count": null,
   "metadata": {},
   "outputs": [
    {
     "data": {
      "text/plain": [
       "0.8002372850517695"
      ]
     },
     "execution_count": 29,
     "metadata": {},
     "output_type": "execute_result"
    }
   ],
   "source": [
    "# checking the cumulative variance of the first 635 Z variables\n",
    "cum_var_exp[634]"
   ]
  },
  {
   "cell_type": "code",
   "execution_count": null,
   "metadata": {},
   "outputs": [
    {
     "name": "stdout",
     "output_type": "stream",
     "text": [
      "Training Score: 0.9993.\n",
      "Testing Score: -0.0038.\n"
     ]
    }
   ],
   "source": [
    "# No principal components used\n",
    "# Instantiate linear regression model.\n",
    "lm = LinearRegression()\n",
    "\n",
    "# Fit on X_train.\n",
    "lm.fit(Xs_train, y_train)\n",
    "\n",
    "# Score on training and testing sets.\n",
    "print(f'Training Score: {round(r2_score(lm.predict(Xs_train), y_train),4)}.')\n",
    "print(f'Testing Score: {round(r2_score(lm.predict(Xs_test), y_test),4)}.')"
   ]
  },
  {
   "cell_type": "code",
   "execution_count": null,
   "metadata": {},
   "outputs": [
    {
     "name": "stdout",
     "output_type": "stream",
     "text": [
      "Training Score: 0.9993.\n",
      "Testing Score: -0.0001.\n"
     ]
    }
   ],
   "source": [
    "# principal components used\n",
    "# Instantiate linear regression model.\n",
    "lm = LinearRegression()\n",
    "\n",
    "# Transform Z_train and Z_test.\n",
    "Z_train = pca.transform(Xs_train)\n",
    "Z_test = pca.transform(Xs_test)\n",
    "\n",
    "# Fit on Z_train.\n",
    "lm.fit(Z_train, y_train)\n",
    "\n",
    "# Score on training and testing sets.\n",
    "print(f'Training Score: {round(r2_score(lm.predict(Z_train), y_train),4)}.')\n",
    "print(f'Testing Score: {round(r2_score(lm.predict(Z_test), y_test),4)}.')"
   ]
  },
  {
   "cell_type": "code",
   "execution_count": null,
   "metadata": {},
   "outputs": [],
   "source": [
    "# # listing the eigenvalues for the first 635 Z variables, which are the transformations of the initial features\n",
    "# # using the principle component directions.\n",
    "# for i in range(635):\n",
    "#     print(var_exp[i])"
   ]
  },
  {
   "cell_type": "markdown",
   "metadata": {},
   "source": [
    "#### The following script is taken from the notebook on PCA\n",
    "[8.04-lesson-principal_component_analysis/starter-code.ipynb](https://git.generalassemb.ly/DSI-US-7/8.04-lesson-principal_component_analysis/blob/master/starter-code-ec.ipynb) "
   ]
  },
  {
   "cell_type": "code",
   "execution_count": null,
   "metadata": {},
   "outputs": [
    {
     "data": {
      "image/png": "[encoded data removed]",
      "text/plain": [
       "<Figure size 648x504 with 1 Axes>"
      ]
     },
     "metadata": {
      "needs_background": "light"
     },
     "output_type": "display_data"
    }
   ],
   "source": [
    "plt.figure(figsize=(9,7))\n",
    "\n",
    "# Plot the explained variance\n",
    "component_number = range(len(var_exp))\n",
    "plt.plot(component_number, var_exp, lw=3)\n",
    "\n",
    "# Add horizontal lines at y=0 and y=100\n",
    "plt.axhline(y=0, linewidth=1, color='grey', ls='dashed')\n",
    "plt.axhline(y=1, linewidth=1, color='grey', ls='dashed')\n",
    "\n",
    "# Set the x and y axis limits\n",
    "ax = plt.gca()\n",
    "ax.set_xlim([-1,26])\n",
    "ax.set_ylim([-0.05,1.05])\n",
    "\n",
    "# Label the axes\n",
    "ax.set_ylabel('variance explained', fontsize=16)\n",
    "ax.set_xlabel('component', fontsize=16)\n",
    "\n",
    "# Make the tick labels bigger\n",
    "for tick in ax.xaxis.get_major_ticks():\n",
    "    tick.label.set_fontsize(12) \n",
    "for tick in ax.yaxis.get_major_ticks():\n",
    "    tick.label.set_fontsize(12) \n",
    "    \n",
    "# Add title\n",
    "ax.set_title('Component vs Variance Explained\\n', fontsize=20)\n",
    "\n",
    "plt.show()"
   ]
  },
  {
   "cell_type": "code",
   "execution_count": null,
   "metadata": {},
   "outputs": [
    {
     "data": {
      "image/png": "[encoded data removed]",
      "text/plain": [
       "<Figure size 648x504 with 1 Axes>"
      ]
     },
     "metadata": {
      "needs_background": "light"
     },
     "output_type": "display_data"
    }
   ],
   "source": [
    "plt.figure(figsize=(9,7))\n",
    "\n",
    "# Plot the cumulative explained variance\n",
    "component_number = range(len(cum_var_exp))\n",
    "plt.plot(component_number, cum_var_exp, lw=3)\n",
    "plt.vlines(x = 635, colors='r', ymin=-0.5, ymax=1.5)\n",
    "plt.hlines(y = 0.8, colors='g', xmin=-0.5, xmax=3000)\n",
    "\n",
    "# Add horizontal lines at y=0 and y=100\n",
    "plt.axhline(y=0, linewidth=1, color='grey', ls='dashed')\n",
    "plt.axhline(y=1, linewidth=1, color='grey', ls='dashed')\n",
    "\n",
    "# Set the x and y axis limits\n",
    "ax = plt.gca()\n",
    "ax.set_xlim([-0.5,3000])\n",
    "ax.set_ylim([-0.05,1.05])\n",
    "\n",
    "# Label the axes\n",
    "ax.set_ylabel('cumulative variance explained', fontsize=16)\n",
    "ax.set_xlabel('component', fontsize=16)\n",
    "\n",
    "# Make the tick labels bigger\n",
    "for tick in ax.xaxis.get_major_ticks():\n",
    "    tick.label.set_fontsize(12) \n",
    "for tick in ax.yaxis.get_major_ticks():\n",
    "    tick.label.set_fontsize(12) \n",
    "    \n",
    "# Add title\n",
    "ax.set_title('Component vs Cumulative variance explained\\n', fontsize=20)\n",
    "\n",
    "plt.show()"
   ]
  },
  {
   "cell_type": "code",
   "execution_count": null,
   "metadata": {},
   "outputs": [
    {
     "data": {
      "text/plain": [
       "PCA(copy=True, iterated_power='auto', n_components=643, random_state=None,\n",
       "  svd_solver='auto', tol=0.0, whiten=False)"
      ]
     },
     "execution_count": 35,
     "metadata": {},
     "output_type": "execute_result"
    }
   ],
   "source": [
    "# now, we fit a model and make predictions using the 635 features\n",
    "\n",
    "pca1 = PCA(n_components=643)\n",
    "pca1.fit(Xs_train)"
   ]
  },
  {
   "cell_type": "code",
   "execution_count": null,
   "metadata": {},
   "outputs": [
    {
     "name": "stdout",
     "output_type": "stream",
     "text": [
      "Explained variance: [0.02559891 0.02192946 0.01702247 0.01273325 0.00879527 0.0077836\n",
      " 0.00664188 0.00637549 0.0059749  0.00470449 0.00456181 0.00417324\n",
      " 0.00401027 0.00392937 0.00385408 0.00374064 0.00365376 0.00355744\n",
      " 0.00350589 0.00345424 0.00340453 0.00336    0.00333921 0.003305\n",
      " 0.00326411 0.00323257 0.00318112 0.00315333 0.00311003 0.00307609\n",
      " 0.0030613  0.00304594 0.00299995 0.00298284 0.00290905 0.00288892\n",
      " 0.00286244 0.00284578 0.00281038 0.00274427 0.00273599 0.00270035\n",
      " 0.00266926 0.00261961 0.00261187 0.00257113 0.00255573 0.00250037\n",
      " 0.00247197 0.00244979 0.00242619 0.00238274 0.002357   0.00233561\n",
      " 0.0023201  0.00229941 0.00227408 0.00226904 0.00223732 0.00222449\n",
      " 0.00219679 0.00218094 0.00216153 0.00215487 0.00212615 0.00211484\n",
      " 0.00210182 0.00209566 0.00208426 0.00206062 0.00204928 0.00203378\n",
      " 0.0019978  0.0019963  0.00198703 0.00196853 0.0019465  0.00193317\n",
      " 0.00190691 0.00188237 0.00185697 0.00185371 0.0018434  0.00182117\n",
      " 0.00181092 0.00179632 0.00178234 0.00177649 0.0017667  0.00175087\n",
      " 0.00174101 0.00173217 0.00172087 0.00171953 0.00170558 0.0016994\n",
      " 0.00168319 0.00166948 0.00165512 0.00164887 0.00164247 0.00163707\n",
      " 0.00162824 0.00161408 0.00160383 0.00159515 0.00157843 0.00157715\n",
      " 0.0015721  0.00156447 0.00156052 0.00155141 0.00154796 0.00153788\n",
      " 0.00152876 0.00152478 0.00151949 0.00151402 0.0015099  0.00150232\n",
      " 0.00149688 0.00148873 0.00148008 0.00147819 0.00147026 0.00145927\n",
      " 0.00145598 0.0014467  0.00144469 0.00143918 0.00143535 0.00143006\n",
      " 0.00142824 0.00142065 0.00141736 0.0014104  0.00140605 0.00140147\n",
      " 0.00139768 0.00139087 0.00138642 0.00138287 0.00137687 0.00137331\n",
      " 0.00136964 0.00136597 0.00135744 0.00135178 0.0013455  0.00133948\n",
      " 0.00133787 0.00133523 0.00132801 0.00132683 0.00131972 0.00131594\n",
      " 0.00131493 0.00131003 0.00130152 0.00129932 0.00129544 0.0012927\n",
      " 0.00128685 0.00128469 0.00128109 0.00127285 0.00126995 0.00126256\n",
      " 0.00126216 0.00125791 0.00125746 0.00125284 0.00125075 0.00124652\n",
      " 0.00124115 0.0012375  0.00123352 0.00122835 0.0012276  0.00122544\n",
      " 0.00122136 0.00121973 0.0012182  0.00121702 0.00121084 0.00120564\n",
      " 0.00120392 0.00120161 0.00119715 0.00119564 0.00119091 0.00118859\n",
      " 0.00118452 0.00117901 0.00117781 0.00117399 0.0011721  0.00117042\n",
      " 0.00116782 0.00116381 0.00116116 0.00115986 0.00115794 0.00115324\n",
      " 0.00115121 0.00114939 0.00114696 0.00114473 0.00113982 0.0011355\n",
      " 0.00113183 0.0011281  0.00112403 0.0011216  0.00111988 0.00111678\n",
      " 0.00111576 0.00111292 0.00110994 0.00110841 0.00110546 0.00110425\n",
      " 0.00109923 0.00109653 0.00109298 0.00109247 0.00109066 0.00108939\n",
      " 0.00108639 0.00108359 0.00108123 0.00107959 0.00107775 0.00107346\n",
      " 0.0010715  0.001069   0.00106661 0.00106385 0.00106218 0.001062\n",
      " 0.00105721 0.00105423 0.00105261 0.00104798 0.00104559 0.00104339\n",
      " 0.0010426  0.00103735 0.00103546 0.00103341 0.0010314  0.00103048\n",
      " 0.00102911 0.00102518 0.00102401 0.00101863 0.00101842 0.00101649\n",
      " 0.00101392 0.00101314 0.00101003 0.00100686 0.0010054  0.00100258\n",
      " 0.00099998 0.00099953 0.00099747 0.00099305 0.00099174 0.00099128\n",
      " 0.00098749 0.00098528 0.00098131 0.00097864 0.00097727 0.0009758\n",
      " 0.00097288 0.00097043 0.00096817 0.0009669  0.00096456 0.00096274\n",
      " 0.00096071 0.00095794 0.00095323 0.00095163 0.00095144 0.00094783\n",
      " 0.00094652 0.00094505 0.00094283 0.00093899 0.00093782 0.0009373\n",
      " 0.00093525 0.00093059 0.00092733 0.0009259  0.00092583 0.00092237\n",
      " 0.00092006 0.00091532 0.00091486 0.00091322 0.00091148 0.00090868\n",
      " 0.00090698 0.0009048  0.0009031  0.00089947 0.00089888 0.00089617\n",
      " 0.00089488 0.00089366 0.00089178 0.00088951 0.00088782 0.0008844\n",
      " 0.00088125 0.00088027 0.00087865 0.0008772  0.00087499 0.00087352\n",
      " 0.00087032 0.00086756 0.00086609 0.0008649  0.00086391 0.00086211\n",
      " 0.00085842 0.00085753 0.00085609 0.00085334 0.00085231 0.0008508\n",
      " 0.00084791 0.00084487 0.0008437  0.00084272 0.00084092 0.00083818\n",
      " 0.00083688 0.00083477 0.00083228 0.00083063 0.0008284  0.00082685\n",
      " 0.00082498 0.00082444 0.00082184 0.0008195  0.00081894 0.00081674\n",
      " 0.00081548 0.00081375 0.00081155 0.00080906 0.00080804 0.00080532\n",
      " 0.00080402 0.00080241 0.00080178 0.00079974 0.00079701 0.00079484\n",
      " 0.00079409 0.00079229 0.00078909 0.00078678 0.00078544 0.00078493\n",
      " 0.00078242 0.00078188 0.00077905 0.00077796 0.00077635 0.00077499\n",
      " 0.00077143 0.00076962 0.0007688  0.00076759 0.00076673 0.00076501\n",
      " 0.00076218 0.00075887 0.00075743 0.00075627 0.00075502 0.00075287\n",
      " 0.00075115 0.00074977 0.00074833 0.00074691 0.00074625 0.00074482\n",
      " 0.00074286 0.00073864 0.00073639 0.00073584 0.00073379 0.00073087\n",
      " 0.00073005 0.00072936 0.00072797 0.00072673 0.00072334 0.00072234\n",
      " 0.00072202 0.00071987 0.00071662 0.0007146  0.00071316 0.0007124\n",
      " 0.00070999 0.00070804 0.00070727 0.00070586 0.0007041  0.00070358\n",
      " 0.00070012 0.00069847 0.00069687 0.00069666 0.00069366 0.00069261\n",
      " 0.00069211 0.000691   0.00068966 0.00068768 0.00068442 0.00068345\n",
      " 0.00068103 0.00067991 0.00067886 0.00067718 0.00067597 0.00067413\n",
      " 0.00067205 0.00067078 0.00066972 0.00066833 0.00066564 0.00066394\n",
      " 0.00066346 0.00066241 0.00065985 0.00065795 0.00065674 0.00065611\n",
      " 0.00065348 0.00065221 0.00065096 0.00064851 0.00064708 0.00064671\n",
      " 0.00064522 0.00064376 0.00064334 0.00064082 0.00064057 0.00063995\n",
      " 0.00063858 0.00063603 0.00063544 0.00063432 0.00063192 0.00063094\n",
      " 0.00062758 0.00062734 0.00062613 0.00062559 0.0006252  0.00062304\n",
      " 0.00062185 0.00061888 0.00061886 0.0006167  0.00061554 0.00061412\n",
      " 0.00061327 0.00061105 0.0006099  0.00060713 0.00060614 0.00060511\n",
      " 0.00060416 0.00060265 0.00060218 0.00060108 0.00059841 0.00059783\n",
      " 0.00059425 0.00059367 0.00059239 0.0005906  0.00058914 0.00058733\n",
      " 0.00058655 0.00058504 0.00058358 0.00058122 0.00057964 0.0005784\n",
      " 0.0005782  0.00057693 0.00057526 0.00057408 0.00057142 0.00057076\n",
      " 0.0005697  0.00056919 0.00056643 0.00056515 0.00056327 0.00056238\n",
      " 0.00056029 0.00055857 0.0005579  0.0005569  0.00055563 0.00055484\n",
      " 0.00055411 0.00055101 0.00054948 0.00054915 0.00054737 0.00054613\n",
      " 0.00054578 0.00054461 0.00054357 0.00054036 0.00053893 0.00053856\n",
      " 0.00053702 0.00053412 0.00053343 0.00053197 0.00053134 0.00052976\n",
      " 0.00052932 0.00052839 0.00052641 0.00052534 0.00052372 0.0005234\n",
      " 0.00052192 0.00052084 0.00051981 0.00051723 0.00051523 0.00051402\n",
      " 0.00051235 0.00051142 0.00050973 0.00050845 0.00050771 0.00050658\n",
      " 0.0005051  0.00050295 0.00050188 0.00050107 0.00049848 0.0004984\n",
      " 0.00049651 0.00049544 0.00049397 0.00049302 0.00049126 0.00048962\n",
      " 0.00048828 0.00048679 0.00048514 0.00048449 0.00048383 0.00048275\n",
      " 0.00048086 0.00047939 0.000478   0.00047625 0.00047523 0.000475\n",
      " 0.00047397 0.00047193 0.00047129 0.00046844 0.00046723 0.00046564\n",
      " 0.00046542 0.0004647  0.00046263 0.00046026 0.00045966 0.00045905\n",
      " 0.00045727 0.00045588 0.00045536 0.000454   0.0004524  0.00045113\n",
      " 0.00045015 0.00044849 0.00044635 0.00044453 0.00044297 0.0004418\n",
      " 0.00044136 0.00043804 0.00043633 0.00043563 0.00043204 0.00043171\n",
      " 0.00043107 0.00042976 0.00042891 0.00042686 0.00042651 0.00042544\n",
      " 0.00042357 0.00042301 0.00042181 0.00042024 0.00041863 0.00041711\n",
      " 0.00041447 0.00041251 0.0004118  0.0004098  0.00040869 0.00040655\n",
      " 0.00040506 0.00040431 0.00040226 0.00040037 0.00039921 0.00039843\n",
      " 0.00039731 0.00039717 0.00039389 0.00039026 0.00038802 0.0003871\n",
      " 0.00038288]\n",
      "Cumulative explained variance: [0.02559891 0.04752837 0.06455084 0.07728409 0.08607936 0.09386296\n",
      " 0.10050484 0.10688033 0.11285523 0.11755972 0.12212153 0.12629477\n",
      " 0.13030504 0.13423441 0.13808849 0.14182913 0.14548289 0.14904032\n",
      " 0.15254621 0.15600044 0.15940498 0.16276498 0.16610419 0.16940919\n",
      " 0.1726733  0.17590587 0.17908699 0.18224032 0.18535035 0.18842644\n",
      " 0.19148774 0.19453369 0.19753363 0.20051648 0.20342553 0.20631445\n",
      " 0.20917689 0.21202267 0.21483305 0.21757732 0.22031331 0.22301367\n",
      " 0.22568293 0.22830253 0.2309144  0.23348553 0.23604126 0.23854163\n",
      " 0.2410136  0.24346339 0.24588957 0.24827231 0.25062932 0.25296493\n",
      " 0.25528503 0.25758444 0.25985852 0.26212756 0.26436488 0.26658937\n",
      " 0.26878615 0.2709671  0.27312863 0.2752835  0.27740965 0.27952449\n",
      " 0.28162631 0.28372197 0.28580623 0.28786684 0.28991613 0.2919499\n",
      " 0.2939477  0.295944   0.29793103 0.29989956 0.30184606 0.30377922\n",
      " 0.30568613 0.3075685  0.30942547 0.31127918 0.31312258 0.31494375\n",
      " 0.31675467 0.31855099 0.32033334 0.32210983 0.32387653 0.3256274\n",
      " 0.32736841 0.32910059 0.33082146 0.33254099 0.33424658 0.33594597\n",
      " 0.33762916 0.33929864 0.34095376 0.34260264 0.3442451  0.34588217\n",
      " 0.34751041 0.34912449 0.35072833 0.35232347 0.3539019  0.35547905\n",
      " 0.35705116 0.35861563 0.36017615 0.36172756 0.36327552 0.36481339\n",
      " 0.36634215 0.36786693 0.36938642 0.37090043 0.37241034 0.37391266\n",
      " 0.37540954 0.37689827 0.37837835 0.37985654 0.3813268  0.38278607\n",
      " 0.38424205 0.38568876 0.38713345 0.38857263 0.39000798 0.39143804\n",
      " 0.39286629 0.39428694 0.3957043  0.3971147  0.39852076 0.39992223\n",
      " 0.40131991 0.40271078 0.4040972  0.40548007 0.40685694 0.40823025\n",
      " 0.40959989 0.41096586 0.4123233  0.41367508 0.41502058 0.41636006\n",
      " 0.41769793 0.41903316 0.42036117 0.421688   0.42300772 0.42432367\n",
      " 0.42563859 0.42694863 0.42825015 0.42954948 0.43084491 0.43213761\n",
      " 0.43342446 0.43470915 0.43599024 0.43726309 0.43853304 0.4397956\n",
      " 0.44105776 0.44231567 0.44357313 0.44482597 0.44607673 0.44732324\n",
      " 0.4485644  0.4498019  0.45103541 0.45226376 0.45349135 0.45471679\n",
      " 0.45593815 0.45715788 0.45837608 0.45959309 0.46080394 0.46200958\n",
      " 0.4632135  0.46441511 0.46561225 0.4668079  0.4679988  0.46918739\n",
      " 0.47037192 0.47155093 0.47272873 0.47390273 0.47507482 0.47624524\n",
      " 0.47741306 0.47857687 0.47973802 0.48089788 0.48205582 0.48320907\n",
      " 0.48436027 0.48550966 0.48665662 0.48780135 0.48894117 0.49007667\n",
      " 0.4912085  0.4923366  0.49346063 0.49458223 0.49570212 0.4968189\n",
      " 0.49793466 0.49904758 0.50015752 0.50126592 0.50237138 0.50347563\n",
      " 0.50457486 0.50567139 0.50676437 0.50785684 0.50894751 0.5100369\n",
      " 0.51112329 0.51220687 0.51328811 0.5143677  0.51544544 0.5165189\n",
      " 0.5175904  0.5186594  0.51972601 0.52078986 0.52185204 0.52291404\n",
      " 0.52397126 0.52502548 0.52607809 0.52712607 0.52817166 0.52921505\n",
      " 0.53025764 0.53129499 0.53233045 0.53336387 0.53439527 0.53542575\n",
      " 0.53645486 0.53748003 0.53850404 0.53952267 0.54054108 0.54155757\n",
      " 0.54257149 0.54358462 0.54459465 0.54560151 0.54660691 0.54760949\n",
      " 0.54860947 0.549609   0.55060647 0.55159952 0.55259126 0.55358254\n",
      " 0.55457002 0.5555553  0.55653661 0.55751525 0.55849252 0.55946833\n",
      " 0.56044121 0.56141164 0.56237981 0.56334672 0.56431128 0.56527402\n",
      " 0.56623473 0.56719267 0.5681459  0.56909754 0.57004898 0.57099681\n",
      " 0.57194332 0.57288837 0.5738312  0.57477018 0.575708   0.5766453\n",
      " 0.57758055 0.57851114 0.57943847 0.58036437 0.5812902  0.58221257\n",
      " 0.58313262 0.58404794 0.5849628  0.58587602 0.5867875  0.58769618\n",
      " 0.58860316 0.58950796 0.59041106 0.59131053 0.59220941 0.59310558\n",
      " 0.59400046 0.59489412 0.59578589 0.5966754  0.59756322 0.59844762\n",
      " 0.59932887 0.60020914 0.60108779 0.60196499 0.60283998 0.6037135\n",
      " 0.60458382 0.60545138 0.60631746 0.60718236 0.60804627 0.60890838\n",
      " 0.60976679 0.61062433 0.61148042 0.61233376 0.61318607 0.61403686\n",
      " 0.61488477 0.61572964 0.61657335 0.61741607 0.61825699 0.61909517\n",
      " 0.61993206 0.62076682 0.6215991  0.62242973 0.62325813 0.62408498\n",
      " 0.62490996 0.6257344  0.62655624 0.62737574 0.62819468 0.62901142\n",
      " 0.62982691 0.63064065 0.63145221 0.63226127 0.63306931 0.63387464\n",
      " 0.63467866 0.63548107 0.63628285 0.63708259 0.6378796  0.63867444\n",
      " 0.63946853 0.64026082 0.64104991 0.64183669 0.64262213 0.64340706\n",
      " 0.64418948 0.64497136 0.64575042 0.64652838 0.64730473 0.64807972\n",
      " 0.64885115 0.64962077 0.65038956 0.65115715 0.65192388 0.65268889\n",
      " 0.65345107 0.65420994 0.65496737 0.65572364 0.65647866 0.65723153\n",
      " 0.65798268 0.65873245 0.65948078 0.66022769 0.66097394 0.66171876\n",
      " 0.66246162 0.66320026 0.66393665 0.66467249 0.66540628 0.66613714\n",
      " 0.6668672  0.66759655 0.66832452 0.66905125 0.66977459 0.67049693\n",
      " 0.67121895 0.67193882 0.67265544 0.67337004 0.6740832  0.6747956\n",
      " 0.67550559 0.67621363 0.6769209  0.67762676 0.67833086 0.67903444\n",
      " 0.67973456 0.68043304 0.68112991 0.68182657 0.68252023 0.68321284\n",
      " 0.68390495 0.68459596 0.68528562 0.6859733  0.68665772 0.68734117\n",
      " 0.6880222  0.68870211 0.68938097 0.69005815 0.69073412 0.69140826\n",
      " 0.6920803  0.69275109 0.69342081 0.69408913 0.69475478 0.69541872\n",
      " 0.69608218 0.69674459 0.69740444 0.69806239 0.69871913 0.69937525\n",
      " 0.70002872 0.70068093 0.70133188 0.7019804  0.70262747 0.70327418\n",
      " 0.70391941 0.70456317 0.70520651 0.70584733 0.70648789 0.70712784\n",
      " 0.70776643 0.70840246 0.7090379  0.70967222 0.71030414 0.71093508\n",
      " 0.71156266 0.71219    0.71281614 0.71344173 0.71406692 0.71468996\n",
      " 0.71531181 0.71593069 0.71654955 0.71716626 0.71778179 0.71839591\n",
      " 0.71900918 0.71962023 0.72023013 0.72083726 0.72144341 0.72204852\n",
      " 0.72265268 0.72325533 0.72385751 0.72445859 0.725057   0.72565482\n",
      " 0.72624907 0.72684274 0.72743514 0.72802574 0.72861487 0.72920221\n",
      " 0.72978875 0.7303738  0.73095738 0.73153859 0.73211824 0.73269664\n",
      " 0.73327484 0.73385178 0.73442704 0.73500111 0.73557254 0.7361433\n",
      " 0.736713   0.73728219 0.73784862 0.73841377 0.73897704 0.73953943\n",
      " 0.74009972 0.74065829 0.74121619 0.74177309 0.74232871 0.74288355\n",
      " 0.74343766 0.74398867 0.74453816 0.7450873  0.74563468 0.74618081\n",
      " 0.74672659 0.7472712  0.74781477 0.74835513 0.74889406 0.74943262\n",
      " 0.74996964 0.75050376 0.75103719 0.75156916 0.75210051 0.75263027\n",
      " 0.75315959 0.75368797 0.75421438 0.75473972 0.75526344 0.75578684\n",
      " 0.75630876 0.75682961 0.75734942 0.75786665 0.75838188 0.7588959\n",
      " 0.75940825 0.75991966 0.76042939 0.76093784 0.76144556 0.76195214\n",
      " 0.76245724 0.76296019 0.76346207 0.76396314 0.76446162 0.76496002\n",
      " 0.76545653 0.76595197 0.76644594 0.76693896 0.76743022 0.76791984\n",
      " 0.76840812 0.76889491 0.76938005 0.76986454 0.77034837 0.77083112\n",
      " 0.77131199 0.77179137 0.77226937 0.77274563 0.77322085 0.77369586\n",
      " 0.77416983 0.77464176 0.77511305 0.77558149 0.77604872 0.77651437\n",
      " 0.77697979 0.77744449 0.77790712 0.77836737 0.77882703 0.77928608\n",
      " 0.77974335 0.78019923 0.78065459 0.78110859 0.78156098 0.78201211\n",
      " 0.78246226 0.78291075 0.7833571  0.78380163 0.7842446  0.7846864\n",
      " 0.78512777 0.78556581 0.78600214 0.78643778 0.78686981 0.78730152\n",
      " 0.78773259 0.78816235 0.78859127 0.78901812 0.78944463 0.78987008\n",
      " 0.79029364 0.79071665 0.79113846 0.7915587  0.79197733 0.79239444\n",
      " 0.79280891 0.79322141 0.79363321 0.79404301 0.7944517  0.79485826\n",
      " 0.79526331 0.79566763 0.79606988 0.79647025 0.79686946 0.79726789\n",
      " 0.7976652  0.79806236 0.79845625 0.79884651 0.79923454 0.79962164\n",
      " 0.80000451]\n"
     ]
    }
   ],
   "source": [
    "var_exp_1 = pca1.explained_variance_ratio_\n",
    "print(f'Explained variance: {var_exp_1}')\n",
    "\n",
    "cum_var_exp_1 = np.cumsum(var_exp_1)\n",
    "print(f'Cumulative explained variance: {cum_var_exp_1}')"
   ]
  },
  {
   "cell_type": "code",
   "execution_count": null,
   "metadata": {},
   "outputs": [
    {
     "name": "stdout",
     "output_type": "stream",
     "text": [
      "Training Score: 0.9993.\n",
      "Testing Score: -0.0038.\n"
     ]
    }
   ],
   "source": [
    "# Instantiate linear regression model.\n",
    "lm = LinearRegression()\n",
    "\n",
    "# Fit on X_train.\n",
    "lm.fit(Xs_train, y_train)\n",
    "\n",
    "# Score on training and testing sets.\n",
    "print(f'Training Score: {round(r2_score(lm.predict(Xs_train), y_train),4)}.')\n",
    "print(f'Testing Score: {round(r2_score(lm.predict(Xs_test), y_test),4)}.')"
   ]
  },
  {
   "cell_type": "code",
   "execution_count": null,
   "metadata": {},
   "outputs": [
    {
     "name": "stdout",
     "output_type": "stream",
     "text": [
      "Training Score: 0.9993.\n",
      "Testing Score: -0.0001.\n"
     ]
    }
   ],
   "source": [
    "# Instantiate linear regression model.\n",
    "lm = LinearRegression()\n",
    "\n",
    "# Transform Z_train and Z_test.\n",
    "Z_train = pca.transform(Xs_train)\n",
    "Z_test = pca.transform(Xs_test)\n",
    "\n",
    "# Fit on Z_train.\n",
    "lm.fit(Z_train, y_train)\n",
    "\n",
    "# Score on training and testing sets.\n",
    "print(f'Training Score: {round(r2_score(lm.predict(Z_train), y_train),4)}.')\n",
    "print(f'Testing Score: {round(r2_score(lm.predict(Z_test), y_test),4)}.')"
   ]
  },
  {
   "cell_type": "code",
   "execution_count": null,
   "metadata": {},
   "outputs": [],
   "source": []
  },
  {
   "cell_type": "code",
   "execution_count": null,
   "metadata": {},
   "outputs": [],
   "source": []
  },
  {
   "cell_type": "code",
   "execution_count": null,
   "metadata": {},
   "outputs": [],
   "source": []
  },
  {
   "cell_type": "code",
   "execution_count": null,
   "metadata": {},
   "outputs": [],
   "source": []
  },
  {
   "cell_type": "code",
   "execution_count": null,
   "metadata": {},
   "outputs": [],
   "source": []
  },
  {
   "cell_type": "code",
   "execution_count": null,
   "metadata": {},
   "outputs": [],
   "source": []
  },
  {
   "cell_type": "code",
   "execution_count": null,
   "metadata": {},
   "outputs": [],
   "source": []
  },
  {
   "cell_type": "markdown",
   "metadata": {},
   "source": [
    "## A correlation first approach"
   ]
  },
  {
   "cell_type": "code",
   "execution_count": null,
   "metadata": {},
   "outputs": [
    {
     "data": {
      "text/html": [
       "<div>\n",
       "<style scoped>\n",
       "    .dataframe tbody tr th:only-of-type {\n",
       "        vertical-align: middle;\n",
       "    }\n",
       "\n",
       "    .dataframe tbody tr th {\n",
       "        vertical-align: top;\n",
       "    }\n",
       "\n",
       "    .dataframe thead th {\n",
       "        text-align: right;\n",
       "    }\n",
       "</style>\n",
       "<table border=\"1\" class=\"dataframe\">\n",
       "  <thead>\n",
       "    <tr style=\"text-align: right;\">\n",
       "      <th></th>\n",
       "      <th>ID</th>\n",
       "      <th>target</th>\n",
       "      <th>48df886f9</th>\n",
       "      <th>0deb4b6a8</th>\n",
       "      <th>34b15f335</th>\n",
       "      <th>a8cb14b00</th>\n",
       "      <th>2f0771a37</th>\n",
       "      <th>30347e683</th>\n",
       "      <th>d08d1fbe3</th>\n",
       "      <th>6ee66e115</th>\n",
       "      <th>...</th>\n",
       "      <th>3ecc09859</th>\n",
       "      <th>9281abeea</th>\n",
       "      <th>8675bec0b</th>\n",
       "      <th>3a13ed79a</th>\n",
       "      <th>f677d4d13</th>\n",
       "      <th>71b203550</th>\n",
       "      <th>137efaa80</th>\n",
       "      <th>fb36b89d9</th>\n",
       "      <th>7e293fbaf</th>\n",
       "      <th>9fc776466</th>\n",
       "    </tr>\n",
       "  </thead>\n",
       "  <tbody>\n",
       "    <tr>\n",
       "      <th>0</th>\n",
       "      <td>000d6aaf2</td>\n",
       "      <td>38000000.0</td>\n",
       "      <td>0.0</td>\n",
       "      <td>0</td>\n",
       "      <td>0.0</td>\n",
       "      <td>0</td>\n",
       "      <td>0</td>\n",
       "      <td>0</td>\n",
       "      <td>0</td>\n",
       "      <td>0</td>\n",
       "      <td>...</td>\n",
       "      <td>0.0</td>\n",
       "      <td>0.0</td>\n",
       "      <td>0.0</td>\n",
       "      <td>0</td>\n",
       "      <td>0</td>\n",
       "      <td>0</td>\n",
       "      <td>0</td>\n",
       "      <td>0</td>\n",
       "      <td>0</td>\n",
       "      <td>0</td>\n",
       "    </tr>\n",
       "    <tr>\n",
       "      <th>1</th>\n",
       "      <td>000fbd867</td>\n",
       "      <td>600000.0</td>\n",
       "      <td>0.0</td>\n",
       "      <td>0</td>\n",
       "      <td>0.0</td>\n",
       "      <td>0</td>\n",
       "      <td>0</td>\n",
       "      <td>0</td>\n",
       "      <td>0</td>\n",
       "      <td>0</td>\n",
       "      <td>...</td>\n",
       "      <td>0.0</td>\n",
       "      <td>0.0</td>\n",
       "      <td>0.0</td>\n",
       "      <td>0</td>\n",
       "      <td>0</td>\n",
       "      <td>0</td>\n",
       "      <td>0</td>\n",
       "      <td>0</td>\n",
       "      <td>0</td>\n",
       "      <td>0</td>\n",
       "    </tr>\n",
       "    <tr>\n",
       "      <th>2</th>\n",
       "      <td>0027d6b71</td>\n",
       "      <td>10000000.0</td>\n",
       "      <td>0.0</td>\n",
       "      <td>0</td>\n",
       "      <td>0.0</td>\n",
       "      <td>0</td>\n",
       "      <td>0</td>\n",
       "      <td>0</td>\n",
       "      <td>0</td>\n",
       "      <td>0</td>\n",
       "      <td>...</td>\n",
       "      <td>0.0</td>\n",
       "      <td>0.0</td>\n",
       "      <td>0.0</td>\n",
       "      <td>0</td>\n",
       "      <td>0</td>\n",
       "      <td>0</td>\n",
       "      <td>0</td>\n",
       "      <td>0</td>\n",
       "      <td>0</td>\n",
       "      <td>0</td>\n",
       "    </tr>\n",
       "    <tr>\n",
       "      <th>3</th>\n",
       "      <td>0028cbf45</td>\n",
       "      <td>2000000.0</td>\n",
       "      <td>0.0</td>\n",
       "      <td>0</td>\n",
       "      <td>0.0</td>\n",
       "      <td>0</td>\n",
       "      <td>0</td>\n",
       "      <td>0</td>\n",
       "      <td>0</td>\n",
       "      <td>0</td>\n",
       "      <td>...</td>\n",
       "      <td>0.0</td>\n",
       "      <td>0.0</td>\n",
       "      <td>0.0</td>\n",
       "      <td>0</td>\n",
       "      <td>0</td>\n",
       "      <td>0</td>\n",
       "      <td>0</td>\n",
       "      <td>0</td>\n",
       "      <td>0</td>\n",
       "      <td>0</td>\n",
       "    </tr>\n",
       "    <tr>\n",
       "      <th>4</th>\n",
       "      <td>002a68644</td>\n",
       "      <td>14400000.0</td>\n",
       "      <td>0.0</td>\n",
       "      <td>0</td>\n",
       "      <td>0.0</td>\n",
       "      <td>0</td>\n",
       "      <td>0</td>\n",
       "      <td>0</td>\n",
       "      <td>0</td>\n",
       "      <td>0</td>\n",
       "      <td>...</td>\n",
       "      <td>0.0</td>\n",
       "      <td>0.0</td>\n",
       "      <td>0.0</td>\n",
       "      <td>0</td>\n",
       "      <td>0</td>\n",
       "      <td>0</td>\n",
       "      <td>0</td>\n",
       "      <td>0</td>\n",
       "      <td>0</td>\n",
       "      <td>0</td>\n",
       "    </tr>\n",
       "  </tbody>\n",
       "</table>\n",
       "<p>5 rows × 4993 columns</p>\n",
       "</div>"
      ],
      "text/plain": [
       "          ID      target  48df886f9  0deb4b6a8  34b15f335  a8cb14b00  \\\n",
       "0  000d6aaf2  38000000.0        0.0          0        0.0          0   \n",
       "1  000fbd867    600000.0        0.0          0        0.0          0   \n",
       "2  0027d6b71  10000000.0        0.0          0        0.0          0   \n",
       "3  0028cbf45   2000000.0        0.0          0        0.0          0   \n",
       "4  002a68644  14400000.0        0.0          0        0.0          0   \n",
       "\n",
       "   2f0771a37  30347e683  d08d1fbe3  6ee66e115  ...  3ecc09859  9281abeea  \\\n",
       "0          0          0          0          0  ...        0.0        0.0   \n",
       "1          0          0          0          0  ...        0.0        0.0   \n",
       "2          0          0          0          0  ...        0.0        0.0   \n",
       "3          0          0          0          0  ...        0.0        0.0   \n",
       "4          0          0          0          0  ...        0.0        0.0   \n",
       "\n",
       "   8675bec0b  3a13ed79a  f677d4d13  71b203550  137efaa80  fb36b89d9  \\\n",
       "0        0.0          0          0          0          0          0   \n",
       "1        0.0          0          0          0          0          0   \n",
       "2        0.0          0          0          0          0          0   \n",
       "3        0.0          0          0          0          0          0   \n",
       "4        0.0          0          0          0          0          0   \n",
       "\n",
       "   7e293fbaf  9fc776466  \n",
       "0          0          0  \n",
       "1          0          0  \n",
       "2          0          0  \n",
       "3          0          0  \n",
       "4          0          0  \n",
       "\n",
       "[5 rows x 4993 columns]"
      ]
     },
     "execution_count": 39,
     "metadata": {},
     "output_type": "execute_result"
    }
   ],
   "source": [
    "train.head()"
   ]
  },
  {
   "cell_type": "code",
   "execution_count": null,
   "metadata": {},
   "outputs": [],
   "source": [
    "corr = train.corr()\n",
    "corr_sort = corr.sort_values(by = ['target'], axis = 0, ascending=False)\n",
    "corr_sort\n",
    "sns.heatmap(corr_sort[['target']], annot=True, cmap='coolwarm')"
   ]
  },
  {
   "cell_type": "code",
   "execution_count": null,
   "metadata": {},
   "outputs": [],
   "source": [
    "sns.heatmap(corr_sort[['target']], annot=True, cmap='coolwarm')"
   ]
  },
  {
   "cell_type": "code",
   "execution_count": null,
   "metadata": {},
   "outputs": [],
   "source": [
    "corr_sort.head()"
   ]
  },
  {
   "cell_type": "code",
   "execution_count": null,
   "metadata": {},
   "outputs": [],
   "source": [
    "sns.heatmap(corr_sort[['target']].head(20), annot=True, cmap='coolwarm')"
   ]
  },
  {
   "cell_type": "code",
   "execution_count": null,
   "metadata": {},
   "outputs": [],
   "source": [
    "len(corr_sort)"
   ]
  },
  {
   "cell_type": "code",
   "execution_count": null,
   "metadata": {},
   "outputs": [],
   "source": [
    "corr_sort[['target']].isnull().sum()"
   ]
  },
  {
   "cell_type": "code",
   "execution_count": null,
   "metadata": {},
   "outputs": [],
   "source": [
    "corr_sort[['target']].notnull().sum()"
   ]
  },
  {
   "cell_type": "code",
   "execution_count": null,
   "metadata": {},
   "outputs": [],
   "source": [
    "corr_sort[['target']].dropna().shape"
   ]
  },
  {
   "cell_type": "code",
   "execution_count": null,
   "metadata": {},
   "outputs": [],
   "source": [
    "corr_sort[['target']].dropna().tail()"
   ]
  },
  {
   "cell_type": "code",
   "execution_count": null,
   "metadata": {},
   "outputs": [],
   "source": [
    "corr_sort[['target']].T.columns"
   ]
  },
  {
   "cell_type": "code",
   "execution_count": null,
   "metadata": {},
   "outputs": [],
   "source": [
    "corr_sort[['target']].T.columns[2]"
   ]
  },
  {
   "cell_type": "code",
   "execution_count": null,
   "metadata": {},
   "outputs": [],
   "source": [
    "corr_sort[['target']].head()"
   ]
  },
  {
   "cell_type": "code",
   "execution_count": null,
   "metadata": {
    "scrolled": true
   },
   "outputs": [],
   "source": [
    "corr_sort[['target']].loc[corr_sort[['target']].T.columns[1]]"
   ]
  },
  {
   "cell_type": "code",
   "execution_count": null,
   "metadata": {},
   "outputs": [],
   "source": [
    "corr_sort[['target']].loc['555f18bd3'].values\n"
   ]
  },
  {
   "cell_type": "code",
   "execution_count": null,
   "metadata": {},
   "outputs": [],
   "source": [
    "# [col for col in corr_sort[['target']].T.columns]# if corr_sort[['target']].loc[col] >= 0.2]\n",
    "\n",
    "value\n",
    "features_of_interest = []\n",
    "for col in corr_sort[['target']].T.columns:\n",
    "    if corr_sort[['target']].loc[col].values > 0.2:\n",
    "        features_of_interest.append(col)\n",
    "\n",
    "features_of_interest\n"
   ]
  },
  {
   "cell_type": "code",
   "execution_count": null,
   "metadata": {},
   "outputs": [],
   "source": [
    "len(features_of_interest)"
   ]
  },
  {
   "cell_type": "code",
   "execution_count": null,
   "metadata": {},
   "outputs": [],
   "source": [
    "training_of_interest = train[features_of_interest]"
   ]
  },
  {
   "cell_type": "code",
   "execution_count": null,
   "metadata": {},
   "outputs": [],
   "source": [
    "training_of_interest.shape"
   ]
  },
  {
   "cell_type": "code",
   "execution_count": null,
   "metadata": {},
   "outputs": [],
   "source": [
    "train[['ID']]"
   ]
  },
  {
   "cell_type": "code",
   "execution_count": null,
   "metadata": {},
   "outputs": [],
   "source": [
    "# this will be the first set we train a model on.\n",
    "training = pd.concat([train['ID'], training_of_interest], axis=1)"
   ]
  },
  {
   "cell_type": "code",
   "execution_count": null,
   "metadata": {},
   "outputs": [],
   "source": []
  },
  {
   "cell_type": "code",
   "execution_count": null,
   "metadata": {},
   "outputs": [],
   "source": []
  },
  {
   "cell_type": "markdown",
   "metadata": {},
   "source": [
    "## Model with the data"
   ]
  },
  {
   "cell_type": "code",
   "execution_count": null,
   "metadata": {},
   "outputs": [],
   "source": [
    "features = [col for col in training.columns if col != 'target']\n",
    "X = training[features]\n",
    "y = training['target']"
   ]
  },
  {
   "cell_type": "code",
   "execution_count": null,
   "metadata": {},
   "outputs": [],
   "source": [
    "X_train, X_test, y_train, y_test = train_test_split(X, \n",
    "                                                    y,\n",
    "                                                    test_size = 0.33,\n",
    "                                                    random_state=42)"
   ]
  },
  {
   "cell_type": "code",
   "execution_count": null,
   "metadata": {},
   "outputs": [],
   "source": [
    "print(X_train.shape)\n",
    "print(y_train.shape)"
   ]
  },
  {
   "cell_type": "code",
   "execution_count": null,
   "metadata": {},
   "outputs": [],
   "source": [
    "print(X_test.shape)\n",
    "print(y_test.shape)"
   ]
  },
  {
   "cell_type": "code",
   "execution_count": null,
   "metadata": {},
   "outputs": [],
   "source": []
  },
  {
   "cell_type": "code",
   "execution_count": null,
   "metadata": {},
   "outputs": [],
   "source": [
    "# Instantiate a standard scale\n",
    "ss = StandardScaler()\n",
    "\n",
    "# fit and scale X_train\n",
    "numerical_features = [col for col in X_train if col != 'ID']\n",
    "X_train_num = X_train[numerical_features]\n",
    "Xs_train = ss.fit_transform(X_train_num)\n",
    "\n",
    "# # scale X_test\n",
    "X_test_num = X_test[numerical_features]\n",
    "Xs_test = ss.transform(X_test_num)"
   ]
  },
  {
   "cell_type": "code",
   "execution_count": null,
   "metadata": {},
   "outputs": [],
   "source": [
    "# df_scaled = pd.DataFrame(ss.fit_transform(df),columns = df.columns)\n",
    "train_df_scaled = pd.DataFrame(Xs_train, columns = X_train_num.columns)"
   ]
  },
  {
   "cell_type": "code",
   "execution_count": null,
   "metadata": {},
   "outputs": [],
   "source": [
    "train_df_scaled.head()"
   ]
  },
  {
   "cell_type": "code",
   "execution_count": null,
   "metadata": {},
   "outputs": [],
   "source": [
    "# Instantiate linear regression model.\n",
    "lm = LinearRegression()\n",
    "\n",
    "# Fit on Xs_train.\n",
    "lm.fit(Xs_train, y_train)\n",
    "\n",
    "# Score on training and testing sets.\n",
    "print(f'Training Score: {round(r2_score(lm.predict(Xs_train), y_train),4)}.')\n",
    "print(f'Testing Score: {round(r2_score(lm.predict(Xs_test), y_test),4)}.')"
   ]
  },
  {
   "cell_type": "code",
   "execution_count": null,
   "metadata": {},
   "outputs": [],
   "source": []
  },
  {
   "cell_type": "code",
   "execution_count": null,
   "metadata": {},
   "outputs": [],
   "source": []
  },
  {
   "cell_type": "markdown",
   "metadata": {},
   "source": [
    "### Let's try using XGBoost."
   ]
  },
  {
   "cell_type": "code",
   "execution_count": null,
   "metadata": {},
   "outputs": [],
   "source": [
    "# !pip install xgboost"
   ]
  },
  {
   "cell_type": "code",
   "execution_count": null,
   "metadata": {},
   "outputs": [],
   "source": [
    "import xgboost as xgb\n",
    "\n",
    "from sklearn.pipeline import Pipeline\n",
    "from sklearn.model_selection import GridSearchCV\n",
    "from sklearn.linear_model import Lasso"
   ]
  },
  {
   "cell_type": "code",
   "execution_count": null,
   "metadata": {},
   "outputs": [],
   "source": [
    "Xs_train.shape"
   ]
  },
  {
   "cell_type": "code",
   "execution_count": null,
   "metadata": {},
   "outputs": [],
   "source": [
    "Xs_test.shape"
   ]
  },
  {
   "cell_type": "code",
   "execution_count": null,
   "metadata": {},
   "outputs": [],
   "source": [
    "import warnings\n",
    "warnings.filterwarnings('ignore')\n",
    "\n",
    "import time\n",
    "start_time = time.time()\n",
    "\n",
    "# for i in range(1, 11):\n",
    "#     print()\n",
    "#     print(50 + i*5)\n",
    "#     print()\n",
    "\n",
    "df = train[features_of_interest]\n",
    "columns = df.columns #[df.corr()['SalePrice'] > 0.2]\n",
    "\n",
    "print(f'number of columns: {len(columns)}')\n",
    "df[columns].head()\n",
    "\n",
    "# Building a Gridsearch for Lasso Regulariztion\n",
    "\n",
    "# instantiate descriptors and target in our training model\n",
    "X = df[columns].drop(['target'], axis = 1)\n",
    "y = df[columns]['target']\n",
    "\n",
    "print(f'The shape of X: {X.shape}')\n",
    "print(f'The shape of y: {y.shape}')\n",
    "print()\n",
    "\n",
    "if X.shape[0] == y.shape[0]:\n",
    "\n",
    "    # train/test split on the data\n",
    "    X_train, X_test, y_train, y_test = train_test_split(X, y,\n",
    "                                                        train_size = 0.80,\n",
    "                                                        random_state = 75)\n",
    "    \n",
    "    # instantiating pipeline for Lasso Regularization\n",
    "    lasso_pipe = Pipeline([('ss', StandardScaler()),\n",
    "                             ('lasso', Lasso())\n",
    "                            ])\n",
    "\n",
    "    # fitting the pipeline tot eh training data\n",
    "    lasso_pipe.fit(X_train, y_train)\n",
    "    \n",
    "    # preparing the parameters for a gridsearch\n",
    "    lasso_params = {\n",
    "        'lasso__alpha': np.logspace(-3, 3, 100)}\n",
    "        \n",
    "    # instantiating a gridsearch for Lasso\n",
    "    lasso_gs = GridSearchCV(lasso_pipe, lasso_params, cv=5)\n",
    "    \n",
    "    # fitting the training data to the gridsearch\n",
    "    lasso_gs.fit(X_train, y_train)\n",
    "    \n",
    "    \n",
    "    print('In fitting the model to the training data, the best fit includes the folowing alpha.')\n",
    "    # the best score (R2 score)\n",
    "    print(f'best score: {lasso_gs.best_score_}')\n",
    "\n",
    "    # the best estimator\n",
    "    print(f'best estimator: {lasso_gs.best_estimator_}')\n",
    "\n",
    "    # the best parameter (alpha)\n",
    "    print(f'best parameter: {lasso_gs.best_params_}')\n",
    "    \n",
    "    # time needed to complete calculation\n",
    "    print(f'time: {round(time.time() - start_time, 3)/60} minutes')\n",
    "    "
   ]
  },
  {
   "cell_type": "markdown",
   "metadata": {},
   "source": [
    "## Now, let's make some predictions"
   ]
  },
  {
   "cell_type": "code",
   "execution_count": null,
   "metadata": {},
   "outputs": [],
   "source": [
    "df_test = pd.read_csv('data/santander-value-prediction-challenge/test.csv')"
   ]
  },
  {
   "cell_type": "code",
   "execution_count": null,
   "metadata": {},
   "outputs": [],
   "source": [
    "# First, a general look at the structure of our testing data\n",
    "print(f'shape of original testing data: \\n {df_test.shape}')\n",
    "print()\n",
    "\n",
    "print(f'shape of X: \\n {X.shape}')\n",
    "print()\n",
    "\n",
    "# build target columns based off of the columns in X \n",
    "target_columns = df[columns].columns[df[columns].columns != 'SalePrice']\n",
    "print(f'The columns in the target data: \\n {list(target_columns)}')\n",
    "print()\n",
    "\n",
    "print(f'shape of the testing data: \\n {df_test[target_columns].shape}')\n",
    "\n",
    "target = df_test[target_columns]\n",
    "\n",
    "# Now, to handle the cells with null values (they are the same 46 cells that needed filled during Analysis 1)\n",
    "target.fillna(value = 0, inplace=True)\n",
    "\n",
    "target.isnull().sum()"
   ]
  },
  {
   "cell_type": "code",
   "execution_count": null,
   "metadata": {},
   "outputs": [],
   "source": [
    "# converting data using our transformation functions from above\n",
    "target = conversion(target)\n",
    "\n",
    "# Now, let's make predictions\n",
    "\n",
    "print(f'The average predicted value is:')\n",
    "print()\n",
    "\n",
    "print(f'Lasso: {lasso_gs.predict(target).mean()}')\n",
    "\n",
    "\n",
    "# Now we have one prediction  \n",
    "\n",
    "pred_lasso = lasso_gs.predict(target)"
   ]
  },
  {
   "cell_type": "code",
   "execution_count": null,
   "metadata": {},
   "outputs": [],
   "source": []
  },
  {
   "cell_type": "code",
   "execution_count": null,
   "metadata": {},
   "outputs": [],
   "source": []
  },
  {
   "cell_type": "markdown",
   "metadata": {},
   "source": [
    "## Do it again, just with bigger alpha"
   ]
  },
  {
   "cell_type": "code",
   "execution_count": null,
   "metadata": {},
   "outputs": [],
   "source": [
    "import warnings\n",
    "warnings.filterwarnings('ignore')\n",
    "\n",
    "import time\n",
    "start_time = time.time()\n",
    "\n",
    "# for i in range(1, 11):\n",
    "#     print()\n",
    "#     print(50 + i*5)\n",
    "#     print()\n",
    "\n",
    "df = train[features_of_interest]\n",
    "columns = df.columns #[df.corr()['SalePrice'] > 0.2]\n",
    "\n",
    "print(f'number of columns: {len(columns)}')\n",
    "df[columns].head()\n",
    "\n",
    "# Building a Gridsearch for Lasso Regulariztion\n",
    "\n",
    "# instantiate descriptors and target in our training model\n",
    "X = df[columns].drop(['target'], axis = 1)\n",
    "y = df[columns]['target']\n",
    "\n",
    "print(f'The shape of X: {X.shape}')\n",
    "print(f'The shape of y: {y.shape}')\n",
    "print()\n",
    "\n",
    "if X.shape[0] == y.shape[0]:\n",
    "\n",
    "    # train/test split on the data\n",
    "    X_train, X_test, y_train, y_test = train_test_split(X, y,\n",
    "                                                        train_size = 0.80,\n",
    "                                                        random_state = 75)\n",
    "    \n",
    "    # instantiating pipeline for Lasso Regularization\n",
    "    lasso_pipe = Pipeline([('ss', StandardScaler()),\n",
    "                             ('lasso', Lasso())\n",
    "                            ])\n",
    "\n",
    "    # fitting the pipeline tot eh training data\n",
    "    lasso_pipe.fit(X_train, y_train)\n",
    "    \n",
    "    # preparing the parameters for a gridsearch\n",
    "    lasso_params = {\n",
    "        'lasso__alpha': np.logspace(2, 6, 100)}\n",
    "        \n",
    "    # instantiating a gridsearch for Lasso\n",
    "    lasso_gs = GridSearchCV(lasso_pipe, lasso_params, cv=5)\n",
    "    \n",
    "    # fitting the training data to the gridsearch\n",
    "    lasso_gs.fit(X_train, y_train)\n",
    "    \n",
    "    \n",
    "    print('In fitting the model to the training data, the best fit includes the folowing alpha.')\n",
    "    # the best score (R2 score)\n",
    "    print(f'best score: {lasso_gs.best_score_}')\n",
    "\n",
    "    # the best estimator\n",
    "    print(f'best estimator: {lasso_gs.best_estimator_}')\n",
    "\n",
    "    # the best parameter (alpha)\n",
    "    print(f'best parameter: {lasso_gs.best_params_}')\n",
    "    \n",
    "    # time needed to complete calculation\n",
    "    print(f'time: {round(time.time() - start_time, 3)/60} minutes')\n",
    "    "
   ]
  }
 ],
 "metadata": {
  "kernelspec": {
   "display_name": "Python 3",
   "language": "python",
   "name": "python3"
  },
  "language_info": {
   "codemirror_mode": {
    "name": "ipython",
    "version": 3
   },
   "file_extension": ".py",
   "mimetype": "text/x-python",
   "name": "python",
   "nbconvert_exporter": "python",
   "pygments_lexer": "ipython3",
   "version": "3.6.8"
  }
 },
 "nbformat": 4,
 "nbformat_minor": 2
}
