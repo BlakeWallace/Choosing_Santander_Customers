{
 "cells": [
  {
   "cell_type": "markdown",
   "metadata": {},
   "source": [
    "# Data science workflow"
   ]
  },
  {
   "cell_type": "markdown",
   "metadata": {},
   "source": [
    "## Define the problem\n",
    "\n",
    "#### As taken from the kaggle competation page \n",
    "[Santander Value Prediction Challenge](#https://www.kaggle.com/c/santander-value-prediction-challenge/data),\n",
    "\n",
    "\"You are provided with an anonymized dataset containing numeric feature variables, the numeric target column, and a string ID column.\n",
    "\n",
    "The task is to predict the value of `target` column in the test set.\"\n",
    "\n",
    "target: \"amount or value of each potential customer's transactions\"  \n",
    "\n",
    "#### data provided\n",
    " - train.csv - a training set\n",
    " - test.csv - the test set\n",
    " - sample_submission.csv - a sample submission file in the correct format\n",
    " \n",
    "#### Goal of submission\n",
    "Minimize the Root Mean Squared Logarithmic Error:\n",
    "\n",
    "$$\\epsilon = \\sqrt{\\frac{1}{n}\\sum^{n}_{i=1}(\\log(p_i + 1) - \\log(a_i + 1))^2}.$$\n",
    "\n",
    "Here:\n",
    "\n",
    "$\\epsilon$  is the RMSLE value (score)  \n",
    "$n$ is the total number of observations in the (public/private) data set,  \n",
    "$p_i$ is a target prediction,  \n",
    "$a_i$ is the actual target for i, and  \n",
    "$\\log(x)$ is the natural logarithm of $x$"
   ]
  },
  {
   "cell_type": "markdown",
   "metadata": {},
   "source": [
    "## Gather the data\n",
    "\n",
    "#### Since the data is provided by Santander, this step is straightforward."
   ]
  },
  {
   "cell_type": "markdown",
   "metadata": {},
   "source": [
    "## Explore the data\n",
    "[explore_the_data](http://localhost:8888/notebooks/Projects/Project_5/explore_the_data.ipynb)\n",
    "\n",
    "#### Notes:\n",
    " 1. "
   ]
  },
  {
   "cell_type": "markdown",
   "metadata": {},
   "source": [
    "## Model with data\n",
    "\n",
    "#### Models tried\n",
    " 1. Linear Regression\n",
    "  - hsfjkd\n",
    " 2.  Decision Tree Regressor\n",
    "  - shfkdshf"
   ]
  },
  {
   "cell_type": "markdown",
   "metadata": {},
   "source": [
    "## Evaluate model\n",
    "\n",
    "#### The models performance\n",
    " 1. Linear Regression\n",
    "  - fhsk\n",
    " 2. Decision Tree Regressor\n",
    "  - fhdksj"
   ]
  },
  {
   "cell_type": "markdown",
   "metadata": {},
   "source": [
    "## Answer the question\n",
    "\n",
    "#### Submission scores\n",
    " 1. \n",
    " 2. \n",
    " 3. "
   ]
  },
  {
   "cell_type": "code",
   "execution_count": null,
   "metadata": {},
   "outputs": [],
   "source": []
  }
 ],
 "metadata": {
  "kernelspec": {
   "display_name": "Python 3",
   "language": "python",
   "name": "python3"
  },
  "language_info": {
   "codemirror_mode": {
    "name": "ipython",
    "version": 3
   },
   "file_extension": ".py",
   "mimetype": "text/x-python",
   "name": "python",
   "nbconvert_exporter": "python",
   "pygments_lexer": "ipython3",
   "version": "3.6.8"
  }
 },
 "nbformat": 4,
 "nbformat_minor": 2
}
